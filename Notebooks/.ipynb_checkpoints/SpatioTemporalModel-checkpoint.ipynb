{
 "cells": [
  {
   "cell_type": "code",
   "execution_count": 1,
   "metadata": {},
   "outputs": [],
   "source": [
    "import torch\n",
    "import torch.nn.functional as F\n",
    "import numpy as np\n",
    "from torchvision.datasets import MNIST\n",
    "import torchvision.transforms as transforms\n",
    "from torch.utils.data import DataLoader\n",
    "from collections import OrderedDict\n",
    "from torch.nn.parameter import Parameter\n",
    "import matplotlib.pyplot as plt\n",
    "from MogrifierLSTM import MogrifierLSTMCell\n",
    "from utils.dataset import NCDFDatasets"
   ]
  },
  {
   "cell_type": "code",
   "execution_count": 2,
   "metadata": {},
   "outputs": [],
   "source": [
    "device = torch.device('cuda:0' if torch.cuda.is_available() else 'cpu')\n",
    "device\n",
    "if (torch.cuda.is_available()):\n",
    "    torch.cuda.empty_cache()"
   ]
  },
  {
   "cell_type": "code",
   "execution_count": 3,
   "metadata": {},
   "outputs": [
    {
     "name": "stdout",
     "output_type": "stream",
     "text": [
      "<xarray.Dataset>\n",
      "Dimensions:  (channel: 1, lat: 50, lon: 50, sample: 13960, time: 5)\n",
      "Coordinates:\n",
      "  * lat      (lat) int64 -39 -38 -37 -36 -35 -34 -33 -32 ... 3 4 5 6 7 8 9 10\n",
      "  * lon      (lon) int64 -84 -83 -82 -81 -80 -79 -78 ... -40 -39 -38 -37 -36 -35\n",
      "Dimensions without coordinates: channel, sample, time\n",
      "Data variables:\n",
      "    x        (sample, time, lat, lon, channel) float32 ...\n",
      "    y        (sample, time, lat, lon, channel) float32 ...\n",
      "Attributes:\n",
      "    description:  The variables have preciptation values and are separable in...\n"
     ]
    }
   ],
   "source": [
    "import xarray as xr\n",
    "data_path = 'data/dataset-chirps-1981-2019-seq5-ystep5.nc'\n",
    "dataset = xr.open_dataset(data_path)\n",
    "print(dataset)"
   ]
  },
  {
   "cell_type": "code",
   "execution_count": 4,
   "metadata": {},
   "outputs": [],
   "source": [
    "data = NCDFDatasets(dataset, val_split = 0.2, test_split = 0.2)\n",
    "train_data = data.get_train()\n",
    "val_data = data.get_val()\n",
    "test_data = data.get_test()"
   ]
  },
  {
   "cell_type": "code",
   "execution_count": 5,
   "metadata": {},
   "outputs": [
    {
     "name": "stdout",
     "output_type": "stream",
     "text": [
      "-----Train-----\n",
      "X :  torch.Size([8376, 5, 1, 50, 50])\n",
      "Y :  torch.Size([8376, 1, 50, 50])\n",
      "-----Val-----\n",
      "X :  torch.Size([2792, 5, 1, 50, 50])\n",
      "Y :  torch.Size([2792, 1, 50, 50])\n",
      "-----Test-----\n",
      "X :  torch.Size([2792, 5, 1, 50, 50])\n",
      "Y :  torch.Size([2792, 1, 50, 50])\n"
     ]
    }
   ],
   "source": [
    "print(\"-----Train-----\")\n",
    "print(\"X : \", train_data.x.shape)\n",
    "print(\"Y : \", train_data.y.shape)\n",
    "print(\"-----Val-----\")\n",
    "print(\"X : \", val_data.x.shape)\n",
    "print(\"Y : \", val_data.y.shape)\n",
    "print(\"-----Test-----\")\n",
    "print(\"X : \", test_data.x.shape)\n",
    "print(\"Y : \", test_data.y.shape)"
   ]
  },
  {
   "cell_type": "code",
   "execution_count": 6,
   "metadata": {},
   "outputs": [],
   "source": [
    "params = {'batch_size': 40,\n",
    "          'num_workers': 4}\n",
    "\n",
    "train_loader = DataLoader(dataset=train_data, shuffle=True, **params)\n",
    "val_loader = DataLoader(dataset=val_data, shuffle=False, **params)\n",
    "test_loader = DataLoader(dataset=test_data, shuffle=False, **params)"
   ]
  },
  {
   "cell_type": "code",
   "execution_count": 7,
   "metadata": {},
   "outputs": [
    {
     "data": {
      "image/png": "[encoded data removed]",
      "text/plain": [
       "<Figure size 432x288 with 1 Axes>"
      ]
     },
     "metadata": {
      "needs_background": "light"
     },
     "output_type": "display_data"
    }
   ],
   "source": [
    "import cartopy.crs as ccrs\n",
    "import matplotlib.pyplot as plt\n",
    "import cartopy\n",
    "#sample, time, lat, lon, ch\n",
    "sst = dataset.variables['x'][0, 0, :, :, 0]\n",
    "lats = dataset.variables['lat'][:]\n",
    "lons = dataset.variables['lon'][:]\n",
    "\n",
    "ax = plt.axes(projection=ccrs.PlateCarree())\n",
    "\n",
    "plt.contourf(lons, lats, sst, 60,\n",
    "             transform=ccrs.PlateCarree())\n",
    "ax.coastlines(color='white')\n",
    "\n",
    "plt.show()"
   ]
  },
  {
   "cell_type": "code",
   "execution_count": 8,
   "metadata": {},
   "outputs": [],
   "source": [
    "class CustomConv2d(torch.nn.Conv2d):\n",
    "    def __init__(self, in_channels, out_channels, kernel_size, stride=1,\n",
    "                 padding=0, dilation=1,\n",
    "                 bias=False, padding_mode='zeros', weight=None):\n",
    "        super().__init__(in_channels, out_channels, kernel_size, stride=stride,\n",
    "                 padding=padding, dilation=dilation,\n",
    "                 bias=bias, padding_mode=padding_mode)\n",
    "        \n",
    "        self.padding = [kernel_size // 2, kernel_size // 2]\n",
    "        if (weight is not None):\n",
    "            self.weight = Parameter(weight.permute(1,0,2,3))\n",
    "        \n",
    "    def forward(self,input):\n",
    "        return F.conv2d(input, self.weight, self.bias, self.stride,\n",
    "                        self.padding, self.dilation)"
   ]
  },
  {
   "cell_type": "code",
   "execution_count": 9,
   "metadata": {},
   "outputs": [],
   "source": [
    "class EncoderCNN(torch.nn.Module):\n",
    "    def __init__(self, layer_size, kernel_size, initial_out_channels, initial_in_channels):\n",
    "        super(EncoderCNN, self).__init__()\n",
    "        self.conv_layers = torch.nn.ModuleList()\n",
    "        self.relu_layers = torch.nn.ModuleList()\n",
    "        \n",
    "        in_channels = initial_in_channels\n",
    "        out_channels = initial_out_channels\n",
    "        for i in range(layer_size):\n",
    "            if (i == layer_size-1):\n",
    "                out_channels = 1\n",
    "            self.conv_layers.append(CustomConv2d(in_channels = in_channels, out_channels = out_channels,\n",
    "                                                kernel_size = kernel_size))\n",
    "            self.relu_layers.append(torch.nn.ReLU())\n",
    "            in_channels = out_channels\n",
    "            \n",
    "            \n",
    "            \n",
    "    def forward(self, x):\n",
    "        for conv, relu in zip(self.conv_layers, self.relu_layers):\n",
    "            x = conv(x)\n",
    "            x = relu(x)\n",
    "        return x"
   ]
  },
  {
   "cell_type": "code",
   "execution_count": 10,
   "metadata": {},
   "outputs": [],
   "source": [
    "class DecoderCNN(torch.nn.Module):\n",
    "    def __init__(self, layer_size, kernel_size, initial_out_channels, initial_in_channels, encoder_weights):\n",
    "        super(DecoderCNN, self).__init__()\n",
    "        self.conv_layers = torch.nn.ModuleList()\n",
    "        self.relu_layers = torch.nn.ModuleList()\n",
    "        \n",
    "        in_channels = initial_in_channels\n",
    "        out_channels = initial_out_channels\n",
    "        \n",
    "        for i in range(layer_size):\n",
    "            if (i == layer_size-1):\n",
    "                out_channels = 1\n",
    "            self.conv_layers.append(CustomConv2d(in_channels = in_channels, out_channels = out_channels,\n",
    "                                                kernel_size = kernel_size, weight=encoder_weights[i]))\n",
    "            self.relu_layers.append(torch.nn.ReLU())\n",
    "            in_channels = out_channels\n",
    "            \n",
    "    def forward(self, x):\n",
    "        for conv, relu in zip(self.conv_layers, self.relu_layers):\n",
    "            x = conv(x)\n",
    "            x = relu(x)\n",
    "        return x"
   ]
  },
  {
   "cell_type": "code",
   "execution_count": 11,
   "metadata": {},
   "outputs": [],
   "source": [
    "class STModel(torch.nn.Module):\n",
    "    def __init__(self, layer_size, kernel_size, out_channels, in_channels, input_width, input_height, recurrent_hidden, \n",
    "                mogrify_rounds):\n",
    "        super(STModel, self).__init__()\n",
    "        self.encoder = EncoderCNN(layer_size = layer_size, kernel_size = kernel_size,\n",
    "                                initial_out_channels = out_channels,\n",
    "                                initial_in_channels = in_channels)\n",
    "        encoder_weights = [layer.weight for layer in self.encoder.conv_layers][::-1]\n",
    "        self.recurrent = torch.nn.LSTM(input_width*input_height, recurrent_hidden, batch_first=True);\n",
    "        self.decoder = DecoderCNN(layer_size = layer_size, kernel_size = kernel_size,\n",
    "                                initial_out_channels = out_channels,\n",
    "                                initial_in_channels = in_channels, encoder_weights = encoder_weights)\n",
    "        \n",
    "        \n",
    "    def forward(self, x):\n",
    "        x, (h, c) = x\n",
    "        batch, time, channel, lat, lon = x.size()\n",
    "        x_input = x.view(batch*time, channel, lat, lon)\n",
    "        x = self.encoder(x_input)\n",
    "        #flatten\n",
    "        x = x.view(batch, time, -1)\n",
    "        h_new, c_new = self.recurrent(x)\n",
    "        x = h_new[:, -1, :]\n",
    "        #revert to original dimensions\n",
    "        x = x.contiguous().view(batch, channel, lat, lon)\n",
    "        x = self.decoder(x)\n",
    "        return x, h_new, c_new\n",
    "        "
   ]
  },
  {
   "cell_type": "code",
   "execution_count": 12,
   "metadata": {},
   "outputs": [],
   "source": [
    "class RMSELoss(torch.nn.Module):\n",
    "    def __init__(self, eps=1e-6):\n",
    "        super().__init__()\n",
    "        self.mse = torch.nn.MSELoss()\n",
    "        self.eps = eps\n",
    "        \n",
    "    def forward(self,yhat,y):\n",
    "        loss = torch.sqrt(self.mse(yhat,y) + self.eps)\n",
    "        return loss\n"
   ]
  },
  {
   "cell_type": "code",
   "execution_count": 13,
   "metadata": {},
   "outputs": [
    {
     "data": {
      "text/plain": [
       "STModel(\n",
       "  (encoder): EncoderCNN(\n",
       "    (conv_layers): ModuleList(\n",
       "      (0): CustomConv2d(1, 64, kernel_size=(5, 5), stride=(1, 1), padding=[2, 2], bias=False)\n",
       "      (1): CustomConv2d(64, 64, kernel_size=(5, 5), stride=(1, 1), padding=[2, 2], bias=False)\n",
       "      (2): CustomConv2d(64, 1, kernel_size=(5, 5), stride=(1, 1), padding=[2, 2], bias=False)\n",
       "    )\n",
       "    (relu_layers): ModuleList(\n",
       "      (0): ReLU()\n",
       "      (1): ReLU()\n",
       "      (2): ReLU()\n",
       "    )\n",
       "  )\n",
       "  (recurrent): LSTM(2500, 2500, batch_first=True)\n",
       "  (decoder): DecoderCNN(\n",
       "    (conv_layers): ModuleList(\n",
       "      (0): CustomConv2d(1, 64, kernel_size=(5, 5), stride=(1, 1), padding=[2, 2], bias=False)\n",
       "      (1): CustomConv2d(64, 64, kernel_size=(5, 5), stride=(1, 1), padding=[2, 2], bias=False)\n",
       "      (2): CustomConv2d(64, 1, kernel_size=(5, 5), stride=(1, 1), padding=[2, 2], bias=False)\n",
       "    )\n",
       "    (relu_layers): ModuleList(\n",
       "      (0): ReLU()\n",
       "      (1): ReLU()\n",
       "      (2): ReLU()\n",
       "    )\n",
       "  )\n",
       ")"
      ]
     },
     "execution_count": 13,
     "metadata": {},
     "output_type": "execute_result"
    }
   ],
   "source": [
    "net = STModel(layer_size = 3, kernel_size = 5, out_channels = 64, in_channels = 1, input_width = 50, input_height = 50, recurrent_hidden = 2500, mogrify_rounds = 5).to(device)\n",
    "net"
   ]
  },
  {
   "cell_type": "code",
   "execution_count": 14,
   "metadata": {
    "scrolled": false
   },
   "outputs": [
    {
     "name": "stdout",
     "output_type": "stream",
     "text": [
      "1393.0868344306946\n",
      "Train - Epoch 1, Batch: 209, Epoch Loss: 6.633747\n",
      "Val Avg. Loss: 6.615567\n",
      "1372.1829009056091\n",
      "Train - Epoch 2, Batch: 209, Epoch Loss: 6.534204\n",
      "Val Avg. Loss: 6.577186\n",
      "1367.04833650589\n",
      "Train - Epoch 3, Batch: 209, Epoch Loss: 6.509754\n",
      "Val Avg. Loss: 6.551161\n",
      "1365.5278162956238\n",
      "Train - Epoch 4, Batch: 209, Epoch Loss: 6.502513\n",
      "Val Avg. Loss: 6.516560\n",
      "1359.5068969726562\n",
      "Train - Epoch 5, Batch: 209, Epoch Loss: 6.473842\n",
      "Val Avg. Loss: 6.507811\n",
      "1361.214241027832\n",
      "Train - Epoch 6, Batch: 209, Epoch Loss: 6.481973\n",
      "Val Avg. Loss: 6.487811\n",
      "1355.106379032135\n",
      "Train - Epoch 7, Batch: 209, Epoch Loss: 6.452888\n",
      "Val Avg. Loss: 6.473769\n",
      "1356.6358833312988\n",
      "Train - Epoch 8, Batch: 209, Epoch Loss: 6.460171\n",
      "Val Avg. Loss: 6.520983\n",
      "1357.3612089157104\n",
      "Train - Epoch 9, Batch: 209, Epoch Loss: 6.463625\n",
      "Val Avg. Loss: 6.549224\n",
      "1356.5999960899353\n",
      "Train - Epoch 10, Batch: 209, Epoch Loss: 6.460000\n",
      "Val Avg. Loss: 6.531040\n",
      "1357.142894268036\n",
      "Train - Epoch 11, Batch: 209, Epoch Loss: 6.462585\n",
      "Val Avg. Loss: 6.503232\n",
      "1358.4346542358398\n",
      "Train - Epoch 12, Batch: 209, Epoch Loss: 6.468736\n",
      "Val Avg. Loss: 6.485183\n",
      "1355.2494497299194\n",
      "Train - Epoch 13, Batch: 209, Epoch Loss: 6.453569\n",
      "Val Avg. Loss: 6.484963\n",
      "1353.3634519577026\n",
      "Train - Epoch 14, Batch: 209, Epoch Loss: 6.444588\n",
      "Val Avg. Loss: 6.497140\n",
      "1354.299988746643\n",
      "Train - Epoch 15, Batch: 209, Epoch Loss: 6.449048\n",
      "Val Avg. Loss: 6.475478\n"
     ]
    }
   ],
   "source": [
    "criterion = RMSELoss()\n",
    "optimizer = torch.optim.Adam(net.parameters(), lr=2e-3)\n",
    "train_losses, val_losses = [], []\n",
    "h,c = [torch.zeros(40,2500).to(device), torch.zeros(40,2500).to(device)]\n",
    "for epoch in range(1,16):\n",
    "    train_loss = net.train()\n",
    "    epoch_train_loss = 0.0\n",
    "    for i, (x, y) in enumerate(train_loader):\n",
    "        x,y = x.to(device), y.to(device)\n",
    "        optimizer.zero_grad()\n",
    "        output, h, c = net((x, (h,c)))\n",
    "        loss = criterion(output, y)\n",
    "        loss.backward()\n",
    "        optimizer.step()\n",
    "        epoch_train_loss += loss.item()\n",
    "        if (torch.cuda.is_available()):\n",
    "                torch.cuda.empty_cache()\n",
    "    print(epoch_train_loss)\n",
    "    avg_epoch_loss = epoch_train_loss/len(train_loader)\n",
    "    train_losses.append(avg_epoch_loss)\n",
    "    print('Train - Epoch %d, Batch: %d, Epoch Loss: %f' % (epoch, i, avg_epoch_loss))\n",
    "\n",
    "    epoch_val_loss = 0.0\n",
    "    val_loss = net.eval()\n",
    "    for i, (x, y) in enumerate(val_loader):\n",
    "        x,y = x.to(device), y.to(device)\n",
    "        output, h, c = net((x, (h,c)))\n",
    "        loss = criterion(output, y)\n",
    "        epoch_val_loss += loss.item()\n",
    "    avg_loss = epoch_val_loss/len(val_loader)\n",
    "    val_losses.append(avg_loss)\n",
    "    print('Val Avg. Loss: %f' % (avg_loss))"
   ]
  },
  {
   "cell_type": "code",
   "execution_count": null,
   "metadata": {},
   "outputs": [],
   "source": [
    "for i, (x, y) in enumerate(train_loader):\n",
    "    if (i==0):\n",
    "        print(x.shape)\n",
    "        print(y.shape)"
   ]
  },
  {
   "cell_type": "code",
   "execution_count": 15,
   "metadata": {},
   "outputs": [
    {
     "data": {
      "image/png": "[encoded data removed]",
      "text/plain": [
       "<Figure size 432x288 with 1 Axes>"
      ]
     },
     "metadata": {
      "needs_background": "light"
     },
     "output_type": "display_data"
    }
   ],
   "source": [
    "epochs = np.arange(1,16)\n",
    "plt.plot(train_losses)\n",
    "plt.plot(val_losses)\n",
    "plt.legend(['Train loss', 'Val loss'], loc='upper right')\n",
    "plt.xlabel(\"Epochs\")\n",
    "plt.ylabel(\"RMSE Loss\")\n",
    "plt.show()"
   ]
  }
 ],
 "metadata": {
  "kernelspec": {
   "display_name": "Python 3",
   "language": "python",
   "name": "python3"
  },
  "language_info": {
   "codemirror_mode": {
    "name": "ipython",
    "version": 3
   },
   "file_extension": ".py",
   "mimetype": "text/x-python",
   "name": "python",
   "nbconvert_exporter": "python",
   "pygments_lexer": "ipython3",
   "version": "3.7.3"
  }
 },
 "nbformat": 4,
 "nbformat_minor": 4
}
