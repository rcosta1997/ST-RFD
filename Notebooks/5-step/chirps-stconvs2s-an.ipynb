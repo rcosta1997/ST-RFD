{
 "cells": [
  {
   "cell_type": "code",
   "execution_count": 1,
   "metadata": {},
   "outputs": [],
   "source": [
    "import sys\n",
    "sys.path.append('..')\n",
    "import warnings\n",
    "warnings.filterwarnings('ignore')"
   ]
  },
  {
   "cell_type": "code",
   "execution_count": 2,
   "metadata": {},
   "outputs": [],
   "source": [
    "import os\n",
    "import numpy as np\n",
    "import xarray as xr\n",
    "import random as rd\n",
    "import platform\n",
    "import adamod\n",
    "\n",
    "import torch\n",
    "import torch.nn as nn\n",
    "import torch.nn.functional as F\n",
    "from torch.utils.data import Dataset, DataLoader\n",
    "from torch import optim\n",
    "from utils.dataset import NCDFDatasets\n"
   ]
  },
  {
   "cell_type": "markdown",
   "metadata": {},
   "source": [
    "Load specific variables for each dataset"
   ]
  },
  {
   "cell_type": "code",
   "execution_count": 3,
   "metadata": {},
   "outputs": [],
   "source": [
    "version = 1\n",
    "data_path = '../data/dataset-chirps-1981-2019-seq5-ystep5.nc'\n",
    "dataset_type = 'chirps'\n",
    "input_size = 50\n",
    "step = 5\n",
    "dropout_rate = 0.2\n",
    "learning_rate = 0.001\n",
    "param = {'encoder_layer_size': 3, 'decoder_layer_size': 3, 'kernel_size': 5, 'filter_size': 32}"
   ]
  },
  {
   "cell_type": "code",
   "execution_count": 4,
   "metadata": {},
   "outputs": [
    {
     "data": {
      "text/plain": [
       "device(type='cuda', index=0)"
      ]
     },
     "execution_count": 4,
     "metadata": {},
     "output_type": "execute_result"
    }
   ],
   "source": [
    "\n",
    "#util = Util('STConvS2S', version=version, dataset_type=dataset_type)\n",
    "\n",
    "os.environ[\"CUDA_VISIBLE_DEVICES\"]='0'\n",
    "device = torch.device('cuda:0' if torch.cuda.is_available() else 'cpu')\n",
    "device\n"
   ]
  },
  {
   "cell_type": "code",
   "execution_count": 5,
   "metadata": {},
   "outputs": [
    {
     "name": "stdout",
     "output_type": "stream",
     "text": [
      "10.1\n"
     ]
    }
   ],
   "source": [
    "print(torch.version.cuda)"
   ]
  },
  {
   "cell_type": "markdown",
   "metadata": {},
   "source": [
    "Seed"
   ]
  },
  {
   "cell_type": "code",
   "execution_count": 6,
   "metadata": {},
   "outputs": [],
   "source": [
    "seed = 1000\n",
    "np.random.seed(seed)\n",
    "rd.seed(seed)\n",
    "torch.manual_seed(seed)\n",
    "torch.cuda.manual_seed(seed)\n",
    "torch.backends.cudnn.deterministic=True"
   ]
  },
  {
   "cell_type": "code",
   "execution_count": 7,
   "metadata": {},
   "outputs": [],
   "source": [
    "def init_seed(seed):\n",
    "    np.random.seed(seed)"
   ]
  },
  {
   "cell_type": "code",
   "execution_count": 8,
   "metadata": {},
   "outputs": [],
   "source": [
    "init_seed = init_seed(seed)"
   ]
  },
  {
   "cell_type": "markdown",
   "metadata": {},
   "source": [
    "Hyperparameters"
   ]
  },
  {
   "cell_type": "code",
   "execution_count": 9,
   "metadata": {},
   "outputs": [],
   "source": [
    "epochs = 50\n",
    "batch_size = 25\n",
    "validation_split = 0.2\n",
    "test_split = 0.2\n",
    "encoder_layer_size = param['encoder_layer_size']\n",
    "decoder_layer_size = param['decoder_layer_size']\n",
    "kernel_size = param['kernel_size']\n",
    "filter_size = param['filter_size']"
   ]
  },
  {
   "cell_type": "markdown",
   "metadata": {},
   "source": [
    "Loading the dataset"
   ]
  },
  {
   "cell_type": "code",
   "execution_count": 10,
   "metadata": {},
   "outputs": [
    {
     "data": {
      "text/html": [
       "<pre>&lt;xarray.Dataset&gt;\n",
       "Dimensions:  (channel: 1, lat: 50, lon: 50, sample: 13960, time: 5)\n",
       "Coordinates:\n",
       "  * lat      (lat) int64 -39 -38 -37 -36 -35 -34 -33 -32 ... 3 4 5 6 7 8 9 10\n",
       "  * lon      (lon) int64 -84 -83 -82 -81 -80 -79 -78 ... -40 -39 -38 -37 -36 -35\n",
       "Dimensions without coordinates: channel, sample, time\n",
       "Data variables:\n",
       "    x        (sample, time, lat, lon, channel) float32 ...\n",
       "    y        (sample, time, lat, lon, channel) float32 ...\n",
       "Attributes:\n",
       "    description:  The variables have preciptation values and are separable in...</pre>"
      ],
      "text/plain": [
       "<xarray.Dataset>\n",
       "Dimensions:  (channel: 1, lat: 50, lon: 50, sample: 13960, time: 5)\n",
       "Coordinates:\n",
       "  * lat      (lat) int64 -39 -38 -37 -36 -35 -34 -33 -32 ... 3 4 5 6 7 8 9 10\n",
       "  * lon      (lon) int64 -84 -83 -82 -81 -80 -79 -78 ... -40 -39 -38 -37 -36 -35\n",
       "Dimensions without coordinates: channel, sample, time\n",
       "Data variables:\n",
       "    x        (sample, time, lat, lon, channel) float32 ...\n",
       "    y        (sample, time, lat, lon, channel) float32 ...\n",
       "Attributes:\n",
       "    description:  The variables have preciptation values and are separable in..."
      ]
     },
     "execution_count": 10,
     "metadata": {},
     "output_type": "execute_result"
    }
   ],
   "source": [
    "dataset = xr.open_dataset(data_path)\n",
    "dataset"
   ]
  },
  {
   "cell_type": "code",
   "execution_count": 11,
   "metadata": {},
   "outputs": [],
   "source": [
    "data = NCDFDatasets(dataset, val_split = validation_split, test_split = test_split)\n",
    "train_data = data.get_train()\n",
    "val_data = data.get_val()\n",
    "test_data = data.get_test()"
   ]
  },
  {
   "cell_type": "code",
   "execution_count": 12,
   "metadata": {},
   "outputs": [
    {
     "name": "stdout",
     "output_type": "stream",
     "text": [
      "[X_train] Shape: torch.Size([8376, 1, 5, 50, 50])\n",
      "[y_train] Shape: torch.Size([8376, 1, 5, 50, 50])\n",
      "[X_val] Shape: torch.Size([2792, 1, 5, 50, 50])\n",
      "[y_val] Shape: torch.Size([2792, 1, 5, 50, 50])\n",
      "[X_test] Shape: torch.Size([2792, 1, 5, 50, 50])\n",
      "[y_test] Shape: torch.Size([2792, 1, 5, 50, 50])\n"
     ]
    }
   ],
   "source": [
    "print('[X_train] Shape:', train_data.x.shape)\n",
    "print('[y_train] Shape:', train_data.y.shape)\n",
    "print('[X_val] Shape:', val_data.x.shape)\n",
    "print('[y_val] Shape:', val_data.y.shape)\n",
    "print('[X_test] Shape:', test_data.x.shape)\n",
    "print('[y_test] Shape:', test_data.y.shape)"
   ]
  },
  {
   "cell_type": "code",
   "execution_count": 13,
   "metadata": {},
   "outputs": [],
   "source": [
    "params = {'batch_size': batch_size,\n",
    "          'num_workers': 4, \n",
    "          'worker_init_fn': init_seed}\n",
    "\n",
    "train_loader = DataLoader(dataset=train_data, shuffle=True, **params)\n",
    "val_loader = DataLoader(dataset=val_data, shuffle=False, **params)\n",
    "test_loader = DataLoader(dataset=test_data, shuffle=False, **params)"
   ]
  },
  {
   "cell_type": "markdown",
   "metadata": {},
   "source": [
    "Creating the model"
   ]
  },
  {
   "cell_type": "code",
   "execution_count": 14,
   "metadata": {},
   "outputs": [],
   "source": [
    "class Mish(nn.Module):\n",
    "    def __init__(self):\n",
    "        super().__init__()\n",
    "\n",
    "    def forward(self, x):\n",
    "        #inlining this saves 1 second per epoch (V100 GPU) vs having a temp x and then returning x(!)\n",
    "        return x *( torch.tanh(F.softplus(x)))"
   ]
  },
  {
   "cell_type": "code",
   "execution_count": 15,
   "metadata": {},
   "outputs": [],
   "source": [
    "class hsigmoid(nn.Module):\n",
    "    def forward(self, x):\n",
    "        out = F.relu6(x + 3, inplace=True) / 6\n",
    "        return out\n",
    "\n",
    "class AttentiveNormalization(nn.BatchNorm3d):\n",
    "    def __init__(self, num_channels, n_mixture=10, momentum=0.99, epsilon=0.1, **kwargs):\n",
    "        super(AttentiveNormalization, self).__init__(num_channels)\n",
    "        self.avg_pool = nn.AdaptiveAvgPool3d(1)\n",
    "        self.n_mixture = n_mixture\n",
    "        \n",
    "        self.fc = nn.Linear(num_channels, self.n_mixture, bias=True)\n",
    "        self.sigmoid = nn.Sigmoid()\n",
    "        \n",
    "        self.weight_ = nn.Parameter(torch.Tensor(self.n_mixture, num_channels)) #K x C\n",
    "        self.bias_ = nn.Parameter(torch.Tensor(self.n_mixture, num_channels))\n",
    "        \n",
    "        self._init_params()\n",
    "\n",
    "    def _init_params(self):\n",
    "        nn.init.normal_(self.weight_, 1, 0.1)\n",
    "        nn.init.normal_(self.bias_, 0, 0.1)\n",
    "        \n",
    "    def forward(self, x):\n",
    "        output_bn = super(AttentiveNormalization, self).forward(x)\n",
    "        size = output_bn.size()\n",
    "        \n",
    "        batch_size, num_channels, _, _, _ = x.size()\n",
    "        # Average along each channel\n",
    "        squeeze_tensor = self.avg_pool(x)\n",
    "        attention_weights = self.sigmoid(self.fc(squeeze_tensor.view(batch_size, num_channels))) # batch x k\n",
    "        \n",
    "        weight = attention_weights @ self.weight_ # b x c\n",
    "        bias = attention_weights @ self.bias_ # b x c\n",
    "\n",
    "        weight = weight.unsqueeze(-1).unsqueeze(-1).unsqueeze(-1).expand(size) #B x C x D x H x W\n",
    "        bias = bias.unsqueeze(-1).unsqueeze(-1).unsqueeze(-1).expand(size)\n",
    "\n",
    "        return weight * output_bn + bias\n"
   ]
  },
  {
   "cell_type": "code",
   "execution_count": 16,
   "metadata": {
    "pixiedust": {
     "displayParams": {}
    }
   },
   "outputs": [],
   "source": [
    "class EncoderSTCNN(nn.Module):\n",
    "    \n",
    "    def __init__(self, layer_size, kernel_size, initial_filter_size, channels):\n",
    "        super(EncoderSTCNN, self).__init__()\n",
    "        self.padding = kernel_size // 2\n",
    "        self.conv_layers = nn.ModuleList()\n",
    "        self.mish_layers = nn.ModuleList()\n",
    "        self.an_layers = nn.ModuleList()\n",
    "        self.dropout_layers = nn.ModuleList()\n",
    "        \n",
    "        spatial_kernel_size =  [1, kernel_size, kernel_size]\n",
    "        spatial_padding =  [0, self.padding, self.padding]\n",
    "        \n",
    "        out_channels = initial_filter_size\n",
    "        in_channels = channels\n",
    "        for i in range(layer_size):\n",
    "            self.conv_layers.append(\n",
    "                nn.Conv3d(in_channels=in_channels, out_channels=out_channels, \n",
    "                          kernel_size=spatial_kernel_size, padding=spatial_padding, bias=False)\n",
    "            )\n",
    "            self.mish_layers.append(Mish())\n",
    "            self.an_layers.append(AttentiveNormalization(out_channels))\n",
    "            self.dropout_layers.append(nn.Dropout(dropout_rate))\n",
    "            in_channels = out_channels\n",
    "        \n",
    "    def forward(self, x):\n",
    "        for conv, mish, an, drop in zip(self.conv_layers, self.mish_layers, \n",
    "                                           self.an_layers, self.dropout_layers):\n",
    "            x = conv(x)\n",
    "            x = an(x)\n",
    "            x = mish(x)\n",
    "            x = drop(x)\n",
    "            \n",
    "        return x"
   ]
  },
  {
   "cell_type": "code",
   "execution_count": 17,
   "metadata": {},
   "outputs": [],
   "source": [
    "class DecoderSTCNN(nn.Module):\n",
    "    \n",
    "    def __init__(self, layer_size, kernel_size, initial_filter_size, channels):\n",
    "        super(DecoderSTCNN, self).__init__()\n",
    "        self.padding = kernel_size - 1\n",
    "        self.conv_layers = nn.ModuleList()\n",
    "        self.mish_layers = nn.ModuleList()\n",
    "        self.batch_layers = nn.ModuleList()\n",
    "        self.dropout_layers = nn.ModuleList()\n",
    "        self.an_layers = nn.ModuleList()\n",
    "\n",
    "        temporal_kernel_size =  [kernel_size, 1, 1]\n",
    "        temporal_padding =  [self.padding, 0, 0]\n",
    "        \n",
    "        out_channels = initial_filter_size\n",
    "        in_channels = channels\n",
    "        for i in range(layer_size):\n",
    "            self.conv_layers.append(\n",
    "                nn.Conv3d(in_channels=in_channels, out_channels=out_channels, \n",
    "                          kernel_size=temporal_kernel_size, padding=temporal_padding, bias=False)\n",
    "            )\n",
    "            self.mish_layers.append(Mish())\n",
    "            self.an_layers.append(AttentiveNormalization(out_channels))\n",
    "            self.dropout_layers.append(nn.Dropout(dropout_rate))\n",
    "            in_channels = out_channels\n",
    "\n",
    "        padding_final = [kernel_size // 2, 0, 0]\n",
    "        self.conv_final = nn.Conv3d(in_channels=in_channels, out_channels=1, \n",
    "              kernel_size=temporal_kernel_size, padding=padding_final, bias=True)\n",
    "        \n",
    "    def forward(self, x):\n",
    "        for conv, mish, an, drop in zip(self.conv_layers, self.mish_layers, \n",
    "                                           self.an_layers, self.dropout_layers):\n",
    "            x = conv(x)[:,:,:-self.padding,:,:]\n",
    "            x = an(x)\n",
    "            x = mish(x)\n",
    "            x = drop(x)\n",
    "            \n",
    "        out = self.conv_final(x)\n",
    "        return out"
   ]
  },
  {
   "cell_type": "code",
   "execution_count": 18,
   "metadata": {},
   "outputs": [],
   "source": [
    "class STConvS2S(nn.Module):\n",
    "    \n",
    "    def __init__(self, encoder_layer_size, decoder_layer_size, kernel_size, \n",
    "                 filter_size, channels):\n",
    "        super(STConvS2S, self).__init__()\n",
    "        \n",
    "        self.encoder = EncoderSTCNN(layer_size=encoder_layer_size, kernel_size=kernel_size, \n",
    "                                  initial_filter_size=filter_size, channels=channels)\n",
    "        self.decoder = DecoderSTCNN(layer_size=decoder_layer_size, kernel_size=kernel_size, \n",
    "                                  initial_filter_size=filter_size, channels=filter_size)\n",
    "        \n",
    "    def forward(self, x):\n",
    "        out = self.encoder(x)\n",
    "        return self.decoder(out)"
   ]
  },
  {
   "cell_type": "code",
   "execution_count": 19,
   "metadata": {},
   "outputs": [],
   "source": [
    "class RMSELoss(nn.Module):\n",
    "    def __init__(self, eps=1e-6):\n",
    "        super().__init__()\n",
    "        self.mse = nn.MSELoss()\n",
    "        self.eps = eps\n",
    "        \n",
    "    def forward(self,yhat,y):\n",
    "        loss = torch.sqrt(self.mse(yhat,y) + self.eps)\n",
    "        return loss"
   ]
  },
  {
   "cell_type": "code",
   "execution_count": 20,
   "metadata": {
    "pixiedust": {
     "displayParams": {}
    }
   },
   "outputs": [],
   "source": [
    "model = STConvS2S(encoder_layer_size, decoder_layer_size, kernel_size, \n",
    "                 filter_size, channels=train_data.x.shape[1]).to(device)\n",
    "criterion = RMSELoss()\n",
    "opt_params = {'lr': 0.001, \n",
    "              'beta3': 0.999}\n",
    "optimizer = adamod.AdaMod(model.parameters(), **opt_params)"
   ]
  },
  {
   "cell_type": "code",
   "execution_count": 21,
   "metadata": {},
   "outputs": [],
   "source": [
    "class Evaluator:\n",
    "    def __init__(self, model, loss, data_loader, device):\n",
    "        self.model = model\n",
    "        self.loss = loss\n",
    "        self.data_loader = data_loader\n",
    "        self.device = device\n",
    "        \n",
    "    def evaluate(self):\n",
    "        with torch.no_grad():\n",
    "            eval_loss = 0.0\n",
    "            self.model.eval()\n",
    "            for i, (x, y) in enumerate(self.data_loader):\n",
    "                x,y = x.to(self.device), y.to(self.device)\n",
    "                output = self.model(x)\n",
    "                loss = self.loss(output, y)\n",
    "                eval_loss += loss.detach().item()\n",
    "            avg_loss = eval_loss/len(self.data_loader)\n",
    "        return avg_loss"
   ]
  },
  {
   "cell_type": "code",
   "execution_count": 22,
   "metadata": {},
   "outputs": [],
   "source": [
    "class TrainingStop:\n",
    "    def __init__(self, threshold):\n",
    "        self.min_loss = sys.float_info.max\n",
    "        self.count = 0\n",
    "        self.threshold = threshold\n",
    "        \n",
    "    def check_stop_condition(self, curr_loss):\n",
    "        if (curr_loss < self.min_loss):\n",
    "            self.min_loss = curr_loss\n",
    "            self.count = 0\n",
    "            return False\n",
    "        else:\n",
    "            self.count += 1\n",
    "            if (self.count >= self.threshold):\n",
    "                return True\n",
    "            return False"
   ]
  },
  {
   "cell_type": "markdown",
   "metadata": {},
   "source": [
    "Training the model"
   ]
  },
  {
   "cell_type": "code",
   "execution_count": 23,
   "metadata": {},
   "outputs": [
    {
     "name": "stdout",
     "output_type": "stream",
     "text": [
      "2249.4258003234863\n",
      "Train - Epoch 1, Batch: 335, Epoch Loss: 6.694720\n",
      "Val Avg. Loss: 6.453991\n",
      "2169.0989451408386\n",
      "Train - Epoch 2, Batch: 335, Epoch Loss: 6.455652\n",
      "Val Avg. Loss: 6.413869\n",
      "2155.178777694702\n",
      "Train - Epoch 3, Batch: 335, Epoch Loss: 6.414223\n",
      "Val Avg. Loss: 6.447130\n",
      "2149.198422908783\n",
      "Train - Epoch 4, Batch: 335, Epoch Loss: 6.396424\n",
      "Val Avg. Loss: 6.397444\n",
      "2148.7261714935303\n",
      "Train - Epoch 5, Batch: 335, Epoch Loss: 6.395018\n",
      "Val Avg. Loss: 6.381757\n",
      "2141.2462029457092\n",
      "Train - Epoch 6, Batch: 335, Epoch Loss: 6.372757\n",
      "Val Avg. Loss: 6.363599\n",
      "2140.0839042663574\n",
      "Train - Epoch 7, Batch: 335, Epoch Loss: 6.369297\n",
      "Val Avg. Loss: 6.498681\n",
      "2135.8690490722656\n",
      "Train - Epoch 8, Batch: 335, Epoch Loss: 6.356753\n",
      "Val Avg. Loss: 6.388357\n",
      "2136.4260697364807\n",
      "Train - Epoch 9, Batch: 335, Epoch Loss: 6.358411\n",
      "Val Avg. Loss: 6.386918\n",
      "2133.8353142738342\n",
      "Train - Epoch 10, Batch: 335, Epoch Loss: 6.350700\n",
      "Val Avg. Loss: 6.370873\n",
      "2133.3752298355103\n",
      "Train - Epoch 11, Batch: 335, Epoch Loss: 6.349331\n",
      "Val Avg. Loss: 6.342172\n",
      "2129.504906654358\n",
      "Train - Epoch 12, Batch: 335, Epoch Loss: 6.337812\n",
      "Val Avg. Loss: 6.376340\n",
      "2129.982318878174\n",
      "Train - Epoch 13, Batch: 335, Epoch Loss: 6.339233\n",
      "Val Avg. Loss: 6.354048\n",
      "2126.7407660484314\n",
      "Train - Epoch 14, Batch: 335, Epoch Loss: 6.329586\n",
      "Val Avg. Loss: 6.357205\n",
      "2126.4650554656982\n",
      "Train - Epoch 15, Batch: 335, Epoch Loss: 6.328765\n",
      "Val Avg. Loss: 6.389170\n",
      "2126.275556564331\n",
      "Train - Epoch 16, Batch: 335, Epoch Loss: 6.328201\n",
      "Val Avg. Loss: 6.372322\n",
      "2126.733052253723\n",
      "Train - Epoch 17, Batch: 335, Epoch Loss: 6.329563\n",
      "Val Avg. Loss: 6.330467\n",
      "2125.6206617355347\n",
      "Train - Epoch 18, Batch: 335, Epoch Loss: 6.326252\n",
      "Val Avg. Loss: 6.330997\n",
      "2122.3065690994263\n",
      "Train - Epoch 19, Batch: 335, Epoch Loss: 6.316389\n",
      "Val Avg. Loss: 6.354497\n"
     ]
    }
   ],
   "source": [
    "train_losses, val_losses = [], []\n",
    "evaluator = Evaluator(model, criterion, val_loader, device)\n",
    "training_stopper = TrainingStop(3)\n",
    "for epoch in range(1,20):\n",
    "    train_loss = model.train()\n",
    "    epoch_train_loss = 0.0\n",
    "    for i, (x, y) in enumerate(train_loader):\n",
    "        x,y = x.to(device), y.to(device)\n",
    "        optimizer.zero_grad()\n",
    "        output = model(x)\n",
    "        #batch : channel : time-steps : lat : lon\n",
    "        loss = criterion(output, y)\n",
    "        loss.backward()\n",
    "        optimizer.step()\n",
    "        epoch_train_loss += loss.detach().item()\n",
    "    print(epoch_train_loss)\n",
    "    avg_epoch_loss = epoch_train_loss/len(train_loader)\n",
    "    train_losses.append(avg_epoch_loss)\n",
    "    print('Train - Epoch %d, Batch: %d, Epoch Loss: %f' % (epoch, i, avg_epoch_loss))\n",
    "\n",
    "    avg_loss = evaluator.evaluate()\n",
    "    val_losses.append(avg_loss)\n",
    "    print('Val Avg. Loss: %f' % (avg_loss))\n",
    "    if (torch.cuda.is_available()):\n",
    "                torch.cuda.empty_cache()\n",
    "    #if (training_stopper.check_stop_condition(avg_loss)):\n",
    "        #break"
   ]
  },
  {
   "cell_type": "code",
   "execution_count": 24,
   "metadata": {},
   "outputs": [
    {
     "data": {
      "image/png": "[encoded data removed]",
      "text/plain": [
       "<Figure size 1080x720 with 1 Axes>"
      ]
     },
     "metadata": {
      "needs_background": "light"
     },
     "output_type": "display_data"
    }
   ],
   "source": [
    "import matplotlib.pyplot as plt\n",
    "epochs = np.arange(1,len(val_losses))\n",
    "plt.figure(figsize=(15,10)) \n",
    "plt.plot(train_losses)\n",
    "plt.plot(val_losses)\n",
    "plt.legend(['Train loss', 'Val loss'], loc='upper right')\n",
    "plt.xlabel(\"Epochs\")\n",
    "plt.ylabel(\"RMSE Loss\")\n",
    "plt.show()"
   ]
  },
  {
   "cell_type": "markdown",
   "metadata": {},
   "source": [
    "Evaluating the model"
   ]
  },
  {
   "cell_type": "code",
   "execution_count": 25,
   "metadata": {},
   "outputs": [
    {
     "name": "stdout",
     "output_type": "stream",
     "text": [
      "STConvS2S RMSELoss: 6.3343\n"
     ]
    }
   ],
   "source": [
    "evaluator = Evaluator(model, criterion, test_loader, device)\n",
    "test_loss = evaluator.evaluate()\n",
    "loss_type = type(criterion).__name__\n",
    "print(f'STConvS2S {loss_type}: {test_loss:.4f}')"
   ]
  },
  {
   "cell_type": "code",
   "execution_count": 44,
   "metadata": {},
   "outputs": [],
   "source": [
    "if (torch.cuda.is_available()):\n",
    "    torch.cuda.empty_cache()"
   ]
  }
 ],
 "metadata": {
  "kernelspec": {
   "display_name": "Python 3",
   "language": "python",
   "name": "python3"
  },
  "language_info": {
   "codemirror_mode": {
    "name": "ipython",
    "version": 3
   },
   "file_extension": ".py",
   "mimetype": "text/x-python",
   "name": "python",
   "nbconvert_exporter": "python",
   "pygments_lexer": "ipython3",
   "version": "3.7.3"
  }
 },
 "nbformat": 4,
 "nbformat_minor": 2
}
