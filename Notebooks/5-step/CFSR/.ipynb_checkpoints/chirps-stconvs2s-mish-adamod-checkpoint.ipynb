{
 "cells": [
  {
   "cell_type": "code",
   "execution_count": 12,
   "metadata": {},
   "outputs": [],
   "source": [
    "import sys\n",
    "sys.path.append('../../..')\n",
    "import warnings\n",
    "warnings.filterwarnings('ignore')"
   ]
  },
  {
   "cell_type": "code",
   "execution_count": 13,
   "metadata": {},
   "outputs": [],
   "source": [
    "import os\n",
    "import numpy as np\n",
    "import xarray as xr\n",
    "import random as rd\n",
    "import platform\n",
    "import adamod\n",
    "\n",
    "import torch\n",
    "import torch.nn as nn\n",
    "import torch.nn.functional as F\n",
    "from torch.utils.data import Dataset, DataLoader\n",
    "from torch import optim\n",
    "from utils.dataset import NCDFDatasets\n"
   ]
  },
  {
   "cell_type": "markdown",
   "metadata": {},
   "source": [
    "Load specific variables for each dataset"
   ]
  },
  {
   "cell_type": "code",
   "execution_count": 14,
   "metadata": {},
   "outputs": [],
   "source": [
    "version = 1\n",
    "data_path = '../../../data/dataset-ucar-1979-2015-seq5-ystep5.nc'\n",
    "dataset_type = 'chirps'\n",
    "input_size = 50\n",
    "step = 5\n",
    "dropout_rate = 0.2\n",
    "learning_rate = 0.001\n",
    "param = {'encoder_layer_size': 3, 'decoder_layer_size': 3, 'kernel_size': 5, 'filter_size': 32}"
   ]
  },
  {
   "cell_type": "code",
   "execution_count": 15,
   "metadata": {},
   "outputs": [
    {
     "data": {
      "text/plain": [
       "device(type='cuda', index=0)"
      ]
     },
     "execution_count": 15,
     "metadata": {},
     "output_type": "execute_result"
    }
   ],
   "source": [
    "\n",
    "#util = Util('STConvS2S', version=version, dataset_type=dataset_type)\n",
    "\n",
    "os.environ[\"CUDA_VISIBLE_DEVICES\"]='0'\n",
    "device = torch.device('cuda:0' if torch.cuda.is_available() else 'cpu')\n",
    "device\n"
   ]
  },
  {
   "cell_type": "code",
   "execution_count": 16,
   "metadata": {},
   "outputs": [
    {
     "name": "stdout",
     "output_type": "stream",
     "text": [
      "10.1\n"
     ]
    }
   ],
   "source": [
    "print(torch.version.cuda)"
   ]
  },
  {
   "cell_type": "markdown",
   "metadata": {},
   "source": [
    "Seed"
   ]
  },
  {
   "cell_type": "code",
   "execution_count": 17,
   "metadata": {},
   "outputs": [],
   "source": [
    "seed = 1000\n",
    "np.random.seed(seed)\n",
    "rd.seed(seed)\n",
    "torch.manual_seed(seed)\n",
    "torch.cuda.manual_seed(seed)\n",
    "torch.backends.cudnn.deterministic=True"
   ]
  },
  {
   "cell_type": "code",
   "execution_count": 18,
   "metadata": {},
   "outputs": [],
   "source": [
    "def init_seed(seed):\n",
    "    np.random.seed(seed)"
   ]
  },
  {
   "cell_type": "code",
   "execution_count": 19,
   "metadata": {},
   "outputs": [],
   "source": [
    "init_seed = init_seed(seed)"
   ]
  },
  {
   "cell_type": "markdown",
   "metadata": {},
   "source": [
    "Hyperparameters"
   ]
  },
  {
   "cell_type": "code",
   "execution_count": 20,
   "metadata": {},
   "outputs": [],
   "source": [
    "epochs = 50\n",
    "batch_size = 25\n",
    "validation_split = 0.2\n",
    "test_split = 0.2\n",
    "encoder_layer_size = param['encoder_layer_size']\n",
    "decoder_layer_size = param['decoder_layer_size']\n",
    "kernel_size = param['kernel_size']\n",
    "filter_size = param['filter_size']"
   ]
  },
  {
   "cell_type": "markdown",
   "metadata": {},
   "source": [
    "Loading the dataset"
   ]
  },
  {
   "cell_type": "code",
   "execution_count": 21,
   "metadata": {},
   "outputs": [
    {
     "data": {
      "text/html": [
       "<pre>&lt;xarray.Dataset&gt;\n",
       "Dimensions:  (channel: 1, lat: 32, lon: 32, sample: 54047, time: 5)\n",
       "Coordinates:\n",
       "  * lat      (lat) int32 -54 -52 -50 -48 -46 -44 -42 -40 ... -6 -4 -2 0 2 4 6 8\n",
       "  * lon      (lon) int32 278 280 282 284 286 288 290 ... 330 332 334 336 338 340\n",
       "Dimensions without coordinates: channel, sample, time\n",
       "Data variables:\n",
       "    x        (sample, time, lat, lon, channel) float32 ...\n",
       "    y        (sample, time, lat, lon, channel) float32 ...\n",
       "Attributes:\n",
       "    description:  The variables have air temperature values and are separable...</pre>"
      ],
      "text/plain": [
       "<xarray.Dataset>\n",
       "Dimensions:  (channel: 1, lat: 32, lon: 32, sample: 54047, time: 5)\n",
       "Coordinates:\n",
       "  * lat      (lat) int32 -54 -52 -50 -48 -46 -44 -42 -40 ... -6 -4 -2 0 2 4 6 8\n",
       "  * lon      (lon) int32 278 280 282 284 286 288 290 ... 330 332 334 336 338 340\n",
       "Dimensions without coordinates: channel, sample, time\n",
       "Data variables:\n",
       "    x        (sample, time, lat, lon, channel) float32 ...\n",
       "    y        (sample, time, lat, lon, channel) float32 ...\n",
       "Attributes:\n",
       "    description:  The variables have air temperature values and are separable..."
      ]
     },
     "execution_count": 21,
     "metadata": {},
     "output_type": "execute_result"
    }
   ],
   "source": [
    "dataset = xr.open_dataset(data_path)\n",
    "dataset"
   ]
  },
  {
   "cell_type": "code",
   "execution_count": 22,
   "metadata": {},
   "outputs": [],
   "source": [
    "data = NCDFDatasets(dataset, val_split = validation_split, test_split = test_split)\n",
    "train_data = data.get_train()\n",
    "val_data = data.get_val()\n",
    "test_data = data.get_test()"
   ]
  },
  {
   "cell_type": "code",
   "execution_count": 23,
   "metadata": {},
   "outputs": [
    {
     "name": "stdout",
     "output_type": "stream",
     "text": [
      "[X_train] Shape: torch.Size([32429, 1, 5, 32, 32])\n",
      "[y_train] Shape: torch.Size([32429, 1, 5, 32, 32])\n",
      "[X_val] Shape: torch.Size([10809, 1, 5, 32, 32])\n",
      "[y_val] Shape: torch.Size([10809, 1, 5, 32, 32])\n",
      "[X_test] Shape: torch.Size([10809, 1, 5, 32, 32])\n",
      "[y_test] Shape: torch.Size([10809, 1, 5, 32, 32])\n"
     ]
    }
   ],
   "source": [
    "print('[X_train] Shape:', train_data.x.shape)\n",
    "print('[y_train] Shape:', train_data.y.shape)\n",
    "print('[X_val] Shape:', val_data.x.shape)\n",
    "print('[y_val] Shape:', val_data.y.shape)\n",
    "print('[X_test] Shape:', test_data.x.shape)\n",
    "print('[y_test] Shape:', test_data.y.shape)"
   ]
  },
  {
   "cell_type": "code",
   "execution_count": 24,
   "metadata": {},
   "outputs": [],
   "source": [
    "params = {'batch_size': batch_size,\n",
    "          'num_workers': 4, \n",
    "          'worker_init_fn': init_seed}\n",
    "\n",
    "train_loader = DataLoader(dataset=train_data, shuffle=True, **params)\n",
    "val_loader = DataLoader(dataset=val_data, shuffle=False, **params)\n",
    "test_loader = DataLoader(dataset=test_data, shuffle=False, **params)"
   ]
  },
  {
   "cell_type": "markdown",
   "metadata": {},
   "source": [
    "Creating the model"
   ]
  },
  {
   "cell_type": "code",
   "execution_count": 25,
   "metadata": {},
   "outputs": [],
   "source": [
    "class Mish(nn.Module):\n",
    "    def __init__(self):\n",
    "        super().__init__()\n",
    "\n",
    "    def forward(self, x):\n",
    "        #inlining this saves 1 second per epoch (V100 GPU) vs having a temp x and then returning x(!)\n",
    "        return x *( torch.tanh(F.softplus(x)))"
   ]
  },
  {
   "cell_type": "code",
   "execution_count": 26,
   "metadata": {
    "pixiedust": {
     "displayParams": {}
    }
   },
   "outputs": [],
   "source": [
    "class EncoderSTCNN(nn.Module):\n",
    "    \n",
    "    def __init__(self, layer_size, kernel_size, initial_filter_size, channels):\n",
    "        super(EncoderSTCNN, self).__init__()\n",
    "        self.padding = kernel_size // 2\n",
    "        self.conv_layers = nn.ModuleList()\n",
    "        self.mish_layers = nn.ModuleList()\n",
    "        self.batch_layers = nn.ModuleList()\n",
    "        self.dropout_layers = nn.ModuleList()\n",
    "        \n",
    "        spatial_kernel_size =  [1, kernel_size, kernel_size]\n",
    "        spatial_padding =  [0, self.padding, self.padding]\n",
    "        \n",
    "        out_channels = initial_filter_size\n",
    "        in_channels = channels\n",
    "        for i in range(layer_size):\n",
    "            self.conv_layers.append(\n",
    "                nn.Conv3d(in_channels=in_channels, out_channels=out_channels, \n",
    "                          kernel_size=spatial_kernel_size, padding=spatial_padding, bias=False)\n",
    "            )\n",
    "            self.mish_layers.append(Mish())\n",
    "            self.batch_layers.append(nn.BatchNorm3d(out_channels))\n",
    "            self.dropout_layers.append(nn.Dropout(dropout_rate))\n",
    "            in_channels = out_channels\n",
    "        \n",
    "    def forward(self, x):\n",
    "        for conv, mish, batch, drop in zip(self.conv_layers, self.mish_layers, \n",
    "                                           self.batch_layers, self.dropout_layers):\n",
    "            x = conv(x)\n",
    "            x = batch(x)\n",
    "            x = mish(x)\n",
    "            x = drop(x)\n",
    "            \n",
    "        return x"
   ]
  },
  {
   "cell_type": "code",
   "execution_count": 27,
   "metadata": {},
   "outputs": [],
   "source": [
    "class DecoderSTCNN(nn.Module):\n",
    "    \n",
    "    def __init__(self, layer_size, kernel_size, initial_filter_size, channels):\n",
    "        super(DecoderSTCNN, self).__init__()\n",
    "        self.padding = kernel_size - 1\n",
    "        self.conv_layers = nn.ModuleList()\n",
    "        self.mish_layers = nn.ModuleList()\n",
    "        self.batch_layers = nn.ModuleList()\n",
    "        self.dropout_layers = nn.ModuleList()\n",
    "\n",
    "        temporal_kernel_size =  [kernel_size, 1, 1]\n",
    "        temporal_padding =  [self.padding, 0, 0]\n",
    "        \n",
    "        out_channels = initial_filter_size\n",
    "        in_channels = channels\n",
    "        for i in range(layer_size):\n",
    "            self.conv_layers.append(\n",
    "                nn.Conv3d(in_channels=in_channels, out_channels=out_channels, \n",
    "                          kernel_size=temporal_kernel_size, padding=temporal_padding, bias=False)\n",
    "            )\n",
    "            self.mish_layers.append(Mish())\n",
    "            self.batch_layers.append(nn.BatchNorm3d(out_channels))\n",
    "            self.dropout_layers.append(nn.Dropout(dropout_rate))\n",
    "            in_channels = out_channels\n",
    "\n",
    "        padding_final = [kernel_size // 2, 0, 0]\n",
    "        self.conv_final = nn.Conv3d(in_channels=in_channels, out_channels=1, \n",
    "              kernel_size=temporal_kernel_size, padding=padding_final, bias=True)\n",
    "        \n",
    "    def forward(self, x):\n",
    "        for conv, mish, batch, drop in zip(self.conv_layers, self.mish_layers, \n",
    "                                           self.batch_layers, self.dropout_layers):\n",
    "            x = conv(x)[:,:,:-self.padding,:,:]\n",
    "            x = batch(x)\n",
    "            x = mish(x)\n",
    "            x = drop(x)\n",
    "            \n",
    "        out = self.conv_final(x)\n",
    "        return out"
   ]
  },
  {
   "cell_type": "code",
   "execution_count": 28,
   "metadata": {},
   "outputs": [],
   "source": [
    "class STConvS2S(nn.Module):\n",
    "    \n",
    "    def __init__(self, encoder_layer_size, decoder_layer_size, kernel_size, \n",
    "                 filter_size, channels):\n",
    "        super(STConvS2S, self).__init__()\n",
    "        \n",
    "        self.encoder = EncoderSTCNN(layer_size=encoder_layer_size, kernel_size=kernel_size, \n",
    "                                  initial_filter_size=filter_size, channels=channels)\n",
    "        self.decoder = DecoderSTCNN(layer_size=decoder_layer_size, kernel_size=kernel_size, \n",
    "                                  initial_filter_size=filter_size, channels=filter_size)\n",
    "        \n",
    "    def forward(self, x):\n",
    "        out = self.encoder(x)\n",
    "        return self.decoder(out)"
   ]
  },
  {
   "cell_type": "code",
   "execution_count": 29,
   "metadata": {},
   "outputs": [],
   "source": [
    "class RMSELoss(nn.Module):\n",
    "    def __init__(self, eps=1e-6):\n",
    "        super().__init__()\n",
    "        self.mse = nn.MSELoss()\n",
    "        self.eps = eps\n",
    "        \n",
    "    def forward(self,yhat,y):\n",
    "        loss = torch.sqrt(self.mse(yhat,y) + self.eps)\n",
    "        return loss"
   ]
  },
  {
   "cell_type": "code",
   "execution_count": 30,
   "metadata": {
    "pixiedust": {
     "displayParams": {}
    }
   },
   "outputs": [],
   "source": [
    "model = STConvS2S(encoder_layer_size, decoder_layer_size, kernel_size, \n",
    "                 filter_size, channels=train_data.x.shape[1]).to(device)\n",
    "criterion = RMSELoss()\n",
    "opt_params = {'lr': 0.001, \n",
    "              'beta3': 0.999}\n",
    "optimizer = adamod.AdaMod(model.parameters(), **opt_params)"
   ]
  },
  {
   "cell_type": "code",
   "execution_count": 31,
   "metadata": {},
   "outputs": [],
   "source": [
    "class Evaluator:\n",
    "    def __init__(self, model, loss, data_loader, device):\n",
    "        self.model = model\n",
    "        self.loss = loss\n",
    "        self.data_loader = data_loader\n",
    "        self.device = device\n",
    "        \n",
    "    def evaluate(self):\n",
    "        with torch.no_grad():\n",
    "            eval_loss = 0.0\n",
    "            self.model.eval()\n",
    "            for i, (x, y) in enumerate(self.data_loader):\n",
    "                x,y = x.to(self.device), y.to(self.device)\n",
    "                output = self.model(x)\n",
    "                loss = self.loss(output, y)\n",
    "                eval_loss += loss.detach().item()\n",
    "            avg_loss = eval_loss/len(self.data_loader)\n",
    "        return avg_loss"
   ]
  },
  {
   "cell_type": "code",
   "execution_count": 32,
   "metadata": {},
   "outputs": [],
   "source": [
    "class TrainingStop:\n",
    "    def __init__(self, threshold):\n",
    "        self.min_loss = sys.float_info.max\n",
    "        self.count = 0\n",
    "        self.threshold = threshold\n",
    "        \n",
    "    def check_stop_condition(self, curr_loss):\n",
    "        if (curr_loss < self.min_loss):\n",
    "            self.min_loss = curr_loss\n",
    "            self.count = 0\n",
    "            return False\n",
    "        else:\n",
    "            self.count += 1\n",
    "            if (self.count >= self.threshold):\n",
    "                return True\n",
    "            return False"
   ]
  },
  {
   "cell_type": "markdown",
   "metadata": {},
   "source": [
    "Training the model"
   ]
  },
  {
   "cell_type": "code",
   "execution_count": 33,
   "metadata": {},
   "outputs": [
    {
     "name": "stdout",
     "output_type": "stream",
     "text": [
      "8718.681496620178\n",
      "Train - Epoch 1, Batch: 1297, Epoch Loss: 6.717012\n",
      "Val Avg. Loss: 1.803575\n",
      "3125.356097459793\n",
      "Train - Epoch 2, Batch: 1297, Epoch Loss: 2.407824\n",
      "Val Avg. Loss: 1.814477\n",
      "3030.0590896606445\n",
      "Train - Epoch 3, Batch: 1297, Epoch Loss: 2.334406\n",
      "Val Avg. Loss: 1.858574\n",
      "2984.121579885483\n",
      "Train - Epoch 4, Batch: 1297, Epoch Loss: 2.299015\n",
      "Val Avg. Loss: 1.734370\n",
      "2952.225289583206\n",
      "Train - Epoch 5, Batch: 1297, Epoch Loss: 2.274442\n",
      "Val Avg. Loss: 1.684199\n",
      "2927.3110790252686\n",
      "Train - Epoch 6, Batch: 1297, Epoch Loss: 2.255247\n",
      "Val Avg. Loss: 1.772076\n",
      "2906.4881567955017\n",
      "Train - Epoch 7, Batch: 1297, Epoch Loss: 2.239205\n",
      "Val Avg. Loss: 1.707310\n",
      "2889.8317675590515\n",
      "Train - Epoch 8, Batch: 1297, Epoch Loss: 2.226373\n",
      "Val Avg. Loss: 1.668800\n",
      "2869.2494792938232\n",
      "Train - Epoch 9, Batch: 1297, Epoch Loss: 2.210516\n",
      "Val Avg. Loss: 1.684021\n",
      "2854.290989637375\n",
      "Train - Epoch 10, Batch: 1297, Epoch Loss: 2.198992\n",
      "Val Avg. Loss: 1.695780\n",
      "2840.908315896988\n",
      "Train - Epoch 11, Batch: 1297, Epoch Loss: 2.188681\n",
      "Val Avg. Loss: 1.690143\n"
     ]
    }
   ],
   "source": [
    "train_losses, val_losses = [], []\n",
    "evaluator = Evaluator(model, criterion, val_loader, device)\n",
    "training_stopper = TrainingStop(3)\n",
    "for epoch in range(1,100):\n",
    "    train_loss = model.train()\n",
    "    epoch_train_loss = 0.0\n",
    "    for i, (x, y) in enumerate(train_loader):\n",
    "        x,y = x.to(device), y.to(device)\n",
    "        optimizer.zero_grad()\n",
    "        output = model(x)\n",
    "        #batch : channel : time-steps : lat : lon\n",
    "        loss = criterion(output, y)\n",
    "        loss.backward()\n",
    "        optimizer.step()\n",
    "        epoch_train_loss += loss.detach().item()\n",
    "    print(epoch_train_loss)\n",
    "    avg_epoch_loss = epoch_train_loss/len(train_loader)\n",
    "    train_losses.append(avg_epoch_loss)\n",
    "    print('Train - Epoch %d, Batch: %d, Epoch Loss: %f' % (epoch, i, avg_epoch_loss))\n",
    "\n",
    "    avg_loss = evaluator.evaluate()\n",
    "    val_losses.append(avg_loss)\n",
    "    print('Val Avg. Loss: %f' % (avg_loss))\n",
    "    if (torch.cuda.is_available()):\n",
    "                torch.cuda.empty_cache()\n",
    "    if (training_stopper.check_stop_condition(avg_loss)):\n",
    "        break"
   ]
  },
  {
   "cell_type": "code",
   "execution_count": 34,
   "metadata": {},
   "outputs": [
    {
     "data": {
      "image/png": "[encoded data removed]",
      "text/plain": [
       "<Figure size 1080x720 with 1 Axes>"
      ]
     },
     "metadata": {
      "needs_background": "light"
     },
     "output_type": "display_data"
    }
   ],
   "source": [
    "import matplotlib.pyplot as plt\n",
    "epochs = np.arange(1,len(val_losses))\n",
    "plt.figure(figsize=(15,10)) \n",
    "plt.plot(train_losses)\n",
    "plt.plot(val_losses)\n",
    "plt.legend(['Train loss', 'Val loss'], loc='upper right')\n",
    "plt.xlabel(\"Epochs\")\n",
    "plt.ylabel(\"RMSE Loss\")\n",
    "plt.show()"
   ]
  },
  {
   "cell_type": "markdown",
   "metadata": {},
   "source": [
    "Evaluating the model"
   ]
  },
  {
   "cell_type": "code",
   "execution_count": 35,
   "metadata": {},
   "outputs": [
    {
     "name": "stdout",
     "output_type": "stream",
     "text": [
      "STConvS2S RMSELoss: 1.6619\n"
     ]
    }
   ],
   "source": [
    "evaluator = Evaluator(model, criterion, test_loader, device)\n",
    "test_loss = evaluator.evaluate()\n",
    "loss_type = type(criterion).__name__\n",
    "print(f'STConvS2S {loss_type}: {test_loss:.4f}')"
   ]
  },
  {
   "cell_type": "code",
   "execution_count": 44,
   "metadata": {},
   "outputs": [],
   "source": [
    "if (torch.cuda.is_available()):\n",
    "    torch.cuda.empty_cache()"
   ]
  },
  {
   "cell_type": "markdown",
   "metadata": {},
   "source": [
    "Notification via email"
   ]
  },
  {
   "cell_type": "code",
   "execution_count": 34,
   "metadata": {},
   "outputs": [
    {
     "data": {
      "text/plain": [
       "{'Jupyter': 'yes',\n",
       " 'best_epoch': 48,\n",
       " 'val_error': 6.446622056620462,\n",
       " 'test_error': 6.406130501202175,\n",
       " 'loss_type': 'RMSELoss',\n",
       " 'step': 5,\n",
       " 'e_layer': 2,\n",
       " 'e_kernel_size': 3,\n",
       " 'e_filter': 64,\n",
       " 'd_layer': 2,\n",
       " 'd_kernel_size': 3,\n",
       " 'd_filter': 64,\n",
       " 'dropout_rate': 0.2,\n",
       " 'dataset': '../data/dataset-chirps-1981-2019-seq5-ystep5.nc',\n",
       " 'hostname': 'LAPTOP-5O8KK05N'}"
      ]
     },
     "execution_count": 34,
     "metadata": {},
     "output_type": "execute_result"
    }
   ],
   "source": [
    "model_info = {'Jupyter': 'yes',\n",
    "              'best_epoch': best_epoch,\n",
    "              'val_error': val_loss,\n",
    "              'test_error': test_loss,\n",
    "              'loss_type': loss_type,\n",
    "              'step': step,\n",
    "              'e_layer': encoder_layer_size,\n",
    "              'e_kernel_size': kernel_size,\n",
    "              'e_filter': filter_size,\n",
    "              'd_layer': decoder_layer_size,\n",
    "              'd_kernel_size': kernel_size,\n",
    "              'd_filter': filter_size,\n",
    "              'dropout_rate': dropout_rate,\n",
    "              'dataset': dataset,\n",
    "              'hostname': platform.node()}\n",
    "\n",
    "model_info"
   ]
  },
  {
   "cell_type": "code",
   "execution_count": 24,
   "metadata": {},
   "outputs": [
    {
     "name": "stdout",
     "output_type": "stream",
     "text": [
      "2153.3084013462067\n",
      "email sent\n"
     ]
    }
   ],
   "source": [
    "util.send_email(model_info)"
   ]
  }
 ],
 "metadata": {
  "kernelspec": {
   "display_name": "Python 3",
   "language": "python",
   "name": "python3"
  },
  "language_info": {
   "codemirror_mode": {
    "name": "ipython",
    "version": 3
   },
   "file_extension": ".py",
   "mimetype": "text/x-python",
   "name": "python",
   "nbconvert_exporter": "python",
   "pygments_lexer": "ipython3",
   "version": "3.7.3"
  }
 },
 "nbformat": 4,
 "nbformat_minor": 2
}
