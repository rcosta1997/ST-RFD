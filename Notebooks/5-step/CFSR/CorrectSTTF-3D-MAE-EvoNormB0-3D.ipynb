{
 "cells": [
  {
   "cell_type": "code",
   "execution_count": 1,
   "metadata": {},
   "outputs": [],
   "source": [
    "import sys\n",
    "sys.path.append('../../..')\n",
    "import warnings\n",
    "warnings.filterwarnings('ignore')"
   ]
  },
  {
   "cell_type": "code",
   "execution_count": 2,
   "metadata": {},
   "outputs": [],
   "source": [
    "import os\n",
    "import numpy as np\n",
    "import xarray as xr\n",
    "import random as rd\n",
    "import platform\n",
    "import adamod\n",
    "import torch\n",
    "import torch.nn.functional as F\n",
    "\n",
    "\n",
    "from torch.utils.data import DataLoader\n",
    "from collections import OrderedDict\n",
    "from torch.nn.parameter import Parameter\n",
    "import matplotlib.pyplot as plt\n",
    "from MogrifierLSTM import MogrifierLSTMCell\n",
    "from utils.dataset import NCDFDatasets\n",
    "from utils.evaluator import Evaluator\n",
    "from utils.trainer import Trainer\n",
    "from datetime import datetime\n",
    "from evonorm import EvoNorm3D"
   ]
  },
  {
   "cell_type": "code",
   "execution_count": 3,
   "metadata": {},
   "outputs": [],
   "source": [
    "device = torch.device('cuda:0' if torch.cuda.is_available() else 'cpu')\n",
    "device\n",
    "if (torch.cuda.is_available()):\n",
    "    torch.cuda.empty_cache()"
   ]
  },
  {
   "cell_type": "code",
   "execution_count": 4,
   "metadata": {},
   "outputs": [],
   "source": [
    "batch_size = 25\n",
    "validation_split = 0.2\n",
    "test_split = 0.2\n",
    "dropout_rate = 0.2\n",
    "prediction_window=5\n",
    "hidden_size = 32*32\n",
    "param = {'encoder_layer_size': 3, 'decoder_layer_size': 3, 'kernel_size': 5, 'filter_size': 32}"
   ]
  },
  {
   "cell_type": "code",
   "execution_count": 5,
   "metadata": {},
   "outputs": [
    {
     "name": "stdout",
     "output_type": "stream",
     "text": [
      "<xarray.Dataset>\n",
      "Dimensions:  (channel: 1, lat: 32, lon: 32, sample: 54047, time: 5)\n",
      "Coordinates:\n",
      "  * lat      (lat) int32 -54 -52 -50 -48 -46 -44 -42 -40 ... -6 -4 -2 0 2 4 6 8\n",
      "  * lon      (lon) int32 278 280 282 284 286 288 290 ... 330 332 334 336 338 340\n",
      "Dimensions without coordinates: channel, sample, time\n",
      "Data variables:\n",
      "    x        (sample, time, lat, lon, channel) float32 ...\n",
      "    y        (sample, time, lat, lon, channel) float32 ...\n",
      "Attributes:\n",
      "    description:  The variables have air temperature values and are separable...\n"
     ]
    }
   ],
   "source": [
    "import xarray as xr\n",
    "data_path = '../../../data/dataset-ucar-1979-2015-seq5-ystep5.nc'\n",
    "dataset = xr.open_dataset(data_path)\n",
    "print(dataset)"
   ]
  },
  {
   "cell_type": "code",
   "execution_count": 6,
   "metadata": {},
   "outputs": [],
   "source": [
    "#In these experiments y has dimensions [batch, channel, lat, lon] as opposed to [batch, channel, time, lat, lon] to\n",
    "#avoid dimension conflict with conv kernels\n",
    "data = NCDFDatasets(dataset, val_split = 0.2, test_split = 0.2)\n",
    "train_data = data.get_train()\n",
    "val_data = data.get_val()\n",
    "test_data = data.get_test()"
   ]
  },
  {
   "cell_type": "code",
   "execution_count": 7,
   "metadata": {},
   "outputs": [
    {
     "name": "stdout",
     "output_type": "stream",
     "text": [
      "-----Train-----\n",
      "X :  torch.Size([32429, 1, 5, 32, 32])\n",
      "Y :  torch.Size([32429, 1, 5, 32, 32])\n",
      "-----Val-----\n",
      "X :  torch.Size([10809, 1, 5, 32, 32])\n",
      "Y :  torch.Size([10809, 1, 5, 32, 32])\n",
      "-----Test-----\n",
      "X :  torch.Size([10809, 1, 5, 32, 32])\n",
      "Y :  torch.Size([10809, 1, 5, 32, 32])\n"
     ]
    }
   ],
   "source": [
    "print(\"-----Train-----\")\n",
    "print(\"X : \", train_data.x.shape)\n",
    "print(\"Y : \", train_data.y.shape)\n",
    "print(\"-----Val-----\")\n",
    "print(\"X : \", val_data.x.shape)\n",
    "print(\"Y : \", val_data.y.shape)\n",
    "print(\"-----Test-----\")\n",
    "print(\"X : \", test_data.x.shape)\n",
    "print(\"Y : \", test_data.y.shape)"
   ]
  },
  {
   "cell_type": "code",
   "execution_count": 8,
   "metadata": {},
   "outputs": [],
   "source": [
    "seed = 1000\n",
    "np.random.seed(seed)\n",
    "rd.seed(seed)\n",
    "torch.manual_seed(seed)\n",
    "torch.cuda.manual_seed(seed)\n",
    "torch.backends.cudnn.deterministic=True\n",
    "\n",
    "def init_seed(seed):\n",
    "    np.random.seed(seed)\n",
    "    \n",
    "init_seed = init_seed(seed)"
   ]
  },
  {
   "cell_type": "code",
   "execution_count": 9,
   "metadata": {},
   "outputs": [],
   "source": [
    "params = {'batch_size': batch_size,\n",
    "          'num_workers': 4,\n",
    "          'worker_init_fn': init_seed}\n",
    "\n",
    "train_loader = DataLoader(dataset=train_data, shuffle=True, **params)\n",
    "val_loader = DataLoader(dataset=val_data, shuffle=False, **params)\n",
    "test_loader = DataLoader(dataset=test_data, shuffle=False, **params)"
   ]
  },
  {
   "cell_type": "code",
   "execution_count": 10,
   "metadata": {},
   "outputs": [
    {
     "data": {
      "image/png": "[encoded data removed]",
      "text/plain": [
       "<Figure size 432x288 with 1 Axes>"
      ]
     },
     "metadata": {
      "needs_background": "light"
     },
     "output_type": "display_data"
    }
   ],
   "source": [
    "import cartopy.crs as ccrs\n",
    "import matplotlib.pyplot as plt\n",
    "import cartopy\n",
    "#sample, ch, time, lat, lon\n",
    "sst = train_data.y[0, 0, 0, :, :]\n",
    "lats = dataset.variables['lat'][:]\n",
    "lons = dataset.variables['lon'][:]\n",
    "\n",
    "ax = plt.axes(projection=ccrs.PlateCarree())\n",
    "\n",
    "plt.contourf(lons, lats, sst, 60,\n",
    "             transform=ccrs.PlateCarree())\n",
    "ax.coastlines(color='white')\n",
    "\n",
    "plt.show()"
   ]
  },
  {
   "cell_type": "code",
   "execution_count": 11,
   "metadata": {},
   "outputs": [],
   "source": [
    "class Mish(torch.nn.Module):\n",
    "    def __init__(self):\n",
    "        super().__init__()\n",
    "\n",
    "    def forward(self, x):\n",
    "        #inlining this saves 1 second per epoch (V100 GPU) vs having a temp x and then returning x(!)\n",
    "        return x *( torch.tanh(F.softplus(x)))"
   ]
  },
  {
   "cell_type": "code",
   "execution_count": 12,
   "metadata": {},
   "outputs": [],
   "source": [
    "class CustomConv3d(torch.nn.Conv3d):\n",
    "    def __init__(self, in_channels, out_channels, kernel_size, stride=1,\n",
    "                 padding=0, dilation=1,\n",
    "                 bias=False, padding_mode='zeros', weight=None):\n",
    "        super().__init__(in_channels, out_channels, kernel_size, stride=stride,\n",
    "                 padding=padding, dilation=dilation,\n",
    "                 bias=bias, padding_mode=padding_mode)\n",
    "        \n",
    "    def forward(self,input, weight=None):\n",
    "        if (weight is not None):\n",
    "            return F.conv3d(input, weight.permute(1,0,2,3,4), self.bias, self.stride,\n",
    "                        self.padding, self.dilation)\n",
    "        else:\n",
    "            return F.conv3d(input, self.weight, self.bias, self.stride,\n",
    "                        self.padding, self.dilation)"
   ]
  },
  {
   "cell_type": "code",
   "execution_count": 13,
   "metadata": {},
   "outputs": [],
   "source": [
    "class SCSELayer(torch.nn.Module):\n",
    "    def __init__(self, out_channels, ratio, strategy='Max-Out'):\n",
    "        super(SCSELayer, self).__init__()\n",
    "        self.avg_pool = torch.nn.AdaptiveAvgPool3d(1)\n",
    "        out_channels_reduced = out_channels // ratio\n",
    "        self.fc1 = torch.nn.Linear(out_channels, out_channels_reduced, bias=True)\n",
    "        self.fc2 = torch.nn.Linear(out_channels_reduced, out_channels, bias=True)\n",
    "        self.relu = torch.nn.ReLU()\n",
    "        self.sigmoid = torch.nn.Sigmoid()\n",
    "        if (strategy not in ['Max-Out', 'Addition', 'Multiplication', 'Concatenation']):\n",
    "            raise ValueError(\"Invalid Concurrency Strategy\")\n",
    "        self.strategy = strategy\n",
    "        \n",
    "        self.conv1 = torch.nn.Conv3d(in_channels=out_channels, out_channels=1, \n",
    "                          kernel_size=1, bias=False)\n",
    "        \n",
    "    def forward(self, x):\n",
    "        batch_size, num_channels, _, _, _ = x.size()\n",
    "        # Average along each channel\n",
    "        squeeze_tensor = self.avg_pool(x)\n",
    "\n",
    "        # channel excitation\n",
    "        fc_out_1 = self.relu(self.fc1(squeeze_tensor.view(batch_size, num_channels)))\n",
    "        fc_out_2 = self.sigmoid(self.fc2(fc_out_1))\n",
    "        \n",
    "        #Spatial squeeze\n",
    "        spatial_squeeze = self.conv1(x)\n",
    "        spatial_se_out = self.sigmoid(spatial_squeeze)\n",
    "\n",
    "        output_tensor_se = torch.mul(x, fc_out_2.view(batch_size, num_channels, 1, 1, 1))\n",
    "        \n",
    "        output_tensor_spatial_se = torch.mul(x, spatial_se_out)\n",
    "        \n",
    "        if (self.strategy == 'Max-Out'):\n",
    "            output_tensor = torch.max(output_tensor_se, output_tensor_spatial_se)\n",
    "        elif (self.strategy == 'Addition'):\n",
    "            output_tensor = output_tensor_se + output_tensor_spatial_se\n",
    "        elif (self.strategy == 'Multiplication'):\n",
    "            output_tensor = torch.mul(output_tensor_se, output_tensor_spatial_se)\n",
    "        else:\n",
    "            output_tensor = torch.cat((output_tensor_se, output_tensor_spatial_se), 1)\n",
    "\n",
    "        return output_tensor"
   ]
  },
  {
   "cell_type": "code",
   "execution_count": 14,
   "metadata": {},
   "outputs": [],
   "source": [
    "class EncoderCNN(torch.nn.Module):\n",
    "    def __init__(self, layer_size, kernel_size, initial_out_channels, initial_in_channels, device):\n",
    "        super(EncoderCNN, self).__init__()\n",
    "        self.device = device\n",
    "        self.layer_size = layer_size\n",
    "        self.conv_layers = torch.nn.ModuleList()\n",
    "        self.bn_layers = torch.nn.ModuleList()\n",
    "        self.decode_bn_layers = torch.nn.ModuleList()\n",
    "        self.encode_se_layers = torch.nn.ModuleList()\n",
    "        \n",
    "        self.kernel_size = [1, kernel_size, kernel_size]\n",
    "        self.padding = [0, kernel_size // 2, kernel_size // 2]\n",
    "        \n",
    "        in_channels = initial_in_channels\n",
    "        out_channels = initial_out_channels\n",
    "        for i in range(self.layer_size):\n",
    "            self.conv_layers.append(CustomConv3d(in_channels = in_channels, out_channels = out_channels,\n",
    "                                                padding = self.padding, kernel_size = self.kernel_size))\n",
    "            self.bn_layers.append(EvoNorm3D(out_channels, version = 'B0_3D'))\n",
    "            self.decode_bn_layers.append(EvoNorm3D(out_channels, version = 'B0_3D'))\n",
    "            self.encode_se_layers.append(SCSELayer(out_channels, 2))\n",
    "            in_channels = out_channels\n",
    "        self.conv_reduce = CustomConv3d(in_channels = in_channels, out_channels = 1,\n",
    "                                                kernel_size = 1)\n",
    "            \n",
    "            \n",
    "    def forward(self, x, decode=False):\n",
    "        if (decode):\n",
    "            x = self.conv_reduce(x, self.conv_reduce.weight)\n",
    "            for i in range(self.layer_size-1, -1, -1):\n",
    "                x = self.decode_bn_layers[i](x)\n",
    "                x = self.conv_layers[i](x, self.conv_layers[i].weight)\n",
    "        else:\n",
    "            for i in range(self.layer_size):\n",
    "                x = self.conv_layers[i](x)\n",
    "                x = self.bn_layers[i](x)\n",
    "                x = self.encode_se_layers[i](x)\n",
    "            x = self.conv_reduce(x)\n",
    "        return x"
   ]
  },
  {
   "cell_type": "code",
   "execution_count": 15,
   "metadata": {},
   "outputs": [],
   "source": [
    "class STModel(torch.nn.Module):\n",
    "    def __init__(self, encoder_layer_size, decoder_layer_size, kernel_size, out_channels, in_channels, input_width, input_height, hidden_size,\n",
    "                prediction_window, device):\n",
    "        super(STModel, self).__init__()\n",
    "        self.device = device\n",
    "        self.prediction_window = prediction_window\n",
    "        self.encoder = EncoderCNN(layer_size = encoder_layer_size, kernel_size = kernel_size,\n",
    "                                initial_out_channels = out_channels,\n",
    "                                initial_in_channels = in_channels, device=device)\n",
    "        self.recurrent_encoder = torch.nn.LSTMCell(input_width*input_height, hidden_size);\n",
    "        #self.recurrent_decoder = torch.nn.LSTMCell(input_width*input_height, hidden_size);\n",
    "       \n",
    "        \n",
    "    def forward(self, x, states):\n",
    "        batch, channel, time, lat, lon = x.size()\n",
    "        x = self.encoder(x)\n",
    "        \n",
    "        x = x.squeeze().view(batch, time, -1)\n",
    "        h = states[0]\n",
    "        c = states[1]\n",
    "        for i in range(time):\n",
    "            h,c = self.recurrent_encoder(x[:,i,:],(h,c))\n",
    "            \n",
    "        outputs = torch.zeros(batch, self.prediction_window, lat*lon, device=self.device)    \n",
    "        outputs[:,0,:] = h\n",
    "        for i in range(self.prediction_window-1):\n",
    "            inputLSTM = h\n",
    "            h,c = self.recurrent_encoder(inputLSTM,(h,c))\n",
    "            outputs[:,i+1,:] = h\n",
    "            \n",
    "        x = outputs.contiguous().view(batch, channel, self.prediction_window, lat, lon)\n",
    "        x = self.encoder(x, decode=True)\n",
    "        return x\n",
    "        "
   ]
  },
  {
   "cell_type": "code",
   "execution_count": 16,
   "metadata": {},
   "outputs": [
    {
     "data": {
      "text/plain": [
       "STModel(\n",
       "  (encoder): EncoderCNN(\n",
       "    (conv_layers): ModuleList(\n",
       "      (0): CustomConv3d(1, 32, kernel_size=[1, 5, 5], stride=(1, 1, 1), padding=[0, 2, 2], bias=False)\n",
       "      (1): CustomConv3d(32, 32, kernel_size=[1, 5, 5], stride=(1, 1, 1), padding=[0, 2, 2], bias=False)\n",
       "      (2): CustomConv3d(32, 32, kernel_size=[1, 5, 5], stride=(1, 1, 1), padding=[0, 2, 2], bias=False)\n",
       "    )\n",
       "    (bn_layers): ModuleList(\n",
       "      (0): EvoNorm3D()\n",
       "      (1): EvoNorm3D()\n",
       "      (2): EvoNorm3D()\n",
       "    )\n",
       "    (decode_bn_layers): ModuleList(\n",
       "      (0): EvoNorm3D()\n",
       "      (1): EvoNorm3D()\n",
       "      (2): EvoNorm3D()\n",
       "    )\n",
       "    (encode_se_layers): ModuleList(\n",
       "      (0): SCSELayer(\n",
       "        (avg_pool): AdaptiveAvgPool3d(output_size=1)\n",
       "        (fc1): Linear(in_features=32, out_features=16, bias=True)\n",
       "        (fc2): Linear(in_features=16, out_features=32, bias=True)\n",
       "        (relu): ReLU()\n",
       "        (sigmoid): Sigmoid()\n",
       "        (conv1): Conv3d(32, 1, kernel_size=(1, 1, 1), stride=(1, 1, 1), bias=False)\n",
       "      )\n",
       "      (1): SCSELayer(\n",
       "        (avg_pool): AdaptiveAvgPool3d(output_size=1)\n",
       "        (fc1): Linear(in_features=32, out_features=16, bias=True)\n",
       "        (fc2): Linear(in_features=16, out_features=32, bias=True)\n",
       "        (relu): ReLU()\n",
       "        (sigmoid): Sigmoid()\n",
       "        (conv1): Conv3d(32, 1, kernel_size=(1, 1, 1), stride=(1, 1, 1), bias=False)\n",
       "      )\n",
       "      (2): SCSELayer(\n",
       "        (avg_pool): AdaptiveAvgPool3d(output_size=1)\n",
       "        (fc1): Linear(in_features=32, out_features=16, bias=True)\n",
       "        (fc2): Linear(in_features=16, out_features=32, bias=True)\n",
       "        (relu): ReLU()\n",
       "        (sigmoid): Sigmoid()\n",
       "        (conv1): Conv3d(32, 1, kernel_size=(1, 1, 1), stride=(1, 1, 1), bias=False)\n",
       "      )\n",
       "    )\n",
       "    (conv_reduce): CustomConv3d(32, 1, kernel_size=(1, 1, 1), stride=(1, 1, 1), bias=False)\n",
       "  )\n",
       "  (recurrent_encoder): LSTMCell(1024, 1024)\n",
       ")"
      ]
     },
     "execution_count": 16,
     "metadata": {},
     "output_type": "execute_result"
    }
   ],
   "source": [
    "model = STModel(encoder_layer_size = param['encoder_layer_size'], decoder_layer_size = param['decoder_layer_size']\n",
    "                ,kernel_size = param['kernel_size'], out_channels = param['filter_size'],\n",
    "                in_channels = train_data.x.shape[1], input_width = train_data.x.shape[3], \n",
    "                input_height = train_data.x.shape[4],\n",
    "                hidden_size = hidden_size, prediction_window = prediction_window, device=device).to(device)\n",
    "criterion = torch.nn.L1Loss()\n",
    "#optimizer_params = {'lr': 0.001}\n",
    "#optimizer = torch.optim.Adam(net.parameters(), **optimizer_params)\n",
    "opt_params = {'lr': 0.001, \n",
    "              'beta3': 0.999}\n",
    "optimizer = adamod.AdaMod(model.parameters(), **opt_params)\n",
    "model"
   ]
  },
  {
   "cell_type": "code",
   "execution_count": 17,
   "metadata": {},
   "outputs": [],
   "source": [
    "model_path = os.path.join('../../../models/CFSR/5_step/STTS_3D_MAE_EvoNormB0_3D_SCSE' + '_' + datetime.now().strftime('m%md%d-h%Hm%Ms%S') + '.pth.tar')\n",
    "trainer = Trainer(model, train_loader, val_loader, criterion, optimizer, 100, device, model_path, recurrent_model=True)\n"
   ]
  },
  {
   "cell_type": "code",
   "execution_count": 18,
   "metadata": {},
   "outputs": [
    {
     "name": "stdout",
     "output_type": "stream",
     "text": [
      "Train - Epoch 0, Epoch Loss: 1.824549\n",
      "Val Avg. Loss: 1.274805\n",
      "=> Saving a new best\n",
      "Train - Epoch 1, Epoch Loss: 1.173372\n",
      "Val Avg. Loss: 1.150988\n",
      "=> Saving a new best\n",
      "Train - Epoch 2, Epoch Loss: 1.099725\n",
      "Val Avg. Loss: 1.141308\n",
      "=> Saving a new best\n",
      "Train - Epoch 3, Epoch Loss: 1.051938\n",
      "Val Avg. Loss: 1.098667\n",
      "=> Saving a new best\n",
      "Train - Epoch 4, Epoch Loss: 1.021355\n",
      "Val Avg. Loss: 1.142634\n",
      "Train - Epoch 5, Epoch Loss: 0.989024\n",
      "Val Avg. Loss: 1.055260\n",
      "=> Saving a new best\n",
      "Train - Epoch 6, Epoch Loss: 0.959459\n",
      "Val Avg. Loss: 1.207901\n",
      "Train - Epoch 7, Epoch Loss: 0.931493\n",
      "Val Avg. Loss: 1.116473\n",
      "Train - Epoch 8, Epoch Loss: 0.908993\n",
      "Val Avg. Loss: 1.022460\n",
      "=> Saving a new best\n",
      "Train - Epoch 9, Epoch Loss: 0.888042\n",
      "Val Avg. Loss: 1.026378\n",
      "Train - Epoch 10, Epoch Loss: 0.868555\n",
      "Val Avg. Loss: 1.051034\n",
      "Train - Epoch 11, Epoch Loss: 0.849692\n",
      "Val Avg. Loss: 1.047390\n",
      "Train - Epoch 12, Epoch Loss: 0.837724\n",
      "Val Avg. Loss: 1.118761\n",
      "Train - Epoch 13, Epoch Loss: 0.825379\n",
      "Val Avg. Loss: 1.023354\n"
     ]
    }
   ],
   "source": [
    "train_losses, val_losses = trainer.train_evaluate()"
   ]
  },
  {
   "cell_type": "code",
   "execution_count": 18,
   "metadata": {},
   "outputs": [
    {
     "data": {
      "image/png": "[encoded data removed]",
      "text/plain": [
       "<Figure size 432x288 with 1 Axes>"
      ]
     },
     "metadata": {
      "needs_background": "light"
     },
     "output_type": "display_data"
    }
   ],
   "source": [
    "epochs = np.arange(1,len(val_losses))\n",
    "plt.plot(train_losses)\n",
    "plt.plot(val_losses)\n",
    "plt.legend(['Train loss', 'Val loss'], loc='upper right')\n",
    "plt.xlabel(\"Epochs\")\n",
    "plt.ylabel(\"RMSE Loss\")\n",
    "plt.show()"
   ]
  },
  {
   "cell_type": "code",
   "execution_count": 19,
   "metadata": {},
   "outputs": [
    {
     "name": "stdout",
     "output_type": "stream",
     "text": [
      "STConvS2S L1Loss: 1.0330\n"
     ]
    }
   ],
   "source": [
    "#trainer.path = '../../../models/STTSModel_m04d08-h16m29s13.pth.tar'\n",
    "model, optimizer, epoch, loss = trainer.load_model()\n",
    "iter_test_loss = 0.0\n",
    "model.eval()\n",
    "with torch.no_grad():\n",
    "    for i, (x, y) in enumerate(test_loader):\n",
    "        x,y = x.to(device), y.to(device)\n",
    "        states = trainer.init_hidden(x.size()[0], x.size()[3]*x.size()[4])\n",
    "        output = model(x, states)\n",
    "        loss = criterion(output, y)\n",
    "        iter_test_loss += loss.detach().item()\n",
    "test_loss = iter_test_loss/len(test_loader)\n",
    "loss_type = type(criterion).__name__\n",
    "print(f'STConvS2S {loss_type}: {test_loss:.4f}')"
   ]
  },
  {
   "cell_type": "code",
   "execution_count": null,
   "metadata": {},
   "outputs": [],
   "source": []
  }
 ],
 "metadata": {
  "kernelspec": {
   "display_name": "Python 3",
   "language": "python",
   "name": "python3"
  },
  "language_info": {
   "codemirror_mode": {
    "name": "ipython",
    "version": 3
   },
   "file_extension": ".py",
   "mimetype": "text/x-python",
   "name": "python",
   "nbconvert_exporter": "python",
   "pygments_lexer": "ipython3",
   "version": "3.7.3"
  }
 },
 "nbformat": 4,
 "nbformat_minor": 4
}
