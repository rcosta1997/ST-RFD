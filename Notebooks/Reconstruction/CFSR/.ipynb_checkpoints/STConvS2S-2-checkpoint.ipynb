{
 "cells": [
  {
   "cell_type": "code",
   "execution_count": 1,
   "metadata": {},
   "outputs": [],
   "source": [
    "import sys\n",
    "sys.path.append('../../..')\n",
    "import warnings\n",
    "warnings.filterwarnings('ignore')"
   ]
  },
  {
   "cell_type": "code",
   "execution_count": 2,
   "metadata": {},
   "outputs": [],
   "source": [
    "import os\n",
    "import numpy as np\n",
    "import xarray as xr\n",
    "import random as rd\n",
    "import platform\n",
    "import adamod\n",
    "\n",
    "import torch\n",
    "import torch.nn as nn\n",
    "from datetime import datetime\n",
    "from torch.utils.data import Dataset, DataLoader\n",
    "from torch import optim\n",
    "from utils.dataset import NCDFDatasets\n",
    "from utils.trainer import Trainer\n",
    "from utils.trainer import Tester"
   ]
  },
  {
   "cell_type": "markdown",
   "metadata": {},
   "source": [
    "Load specific variables for each dataset"
   ]
  },
  {
   "cell_type": "code",
   "execution_count": 3,
   "metadata": {},
   "outputs": [],
   "source": [
    "version = 1\n",
    "data_path = '../../../data/dataset-ucar-1979-2015-seq5-ystep5.nc'\n",
    "dataset_type = 'chirps'\n",
    "dropout_rate = 0.2\n",
    "learning_rate = 0.001\n",
    "weights = [0.9, 0.1]\n",
    "param = {'encoder_layer_size': 3, 'decoder_layer_size': 3, 'kernel_size': 5, 'filter_size': 32}"
   ]
  },
  {
   "cell_type": "code",
   "execution_count": 4,
   "metadata": {},
   "outputs": [
    {
     "data": {
      "text/plain": [
       "device(type='cuda', index=0)"
      ]
     },
     "execution_count": 4,
     "metadata": {},
     "output_type": "execute_result"
    }
   ],
   "source": [
    "\n",
    "#util = Util('STConvS2S', version=version, dataset_type=dataset_type)\n",
    "\n",
    "os.environ[\"CUDA_VISIBLE_DEVICES\"]='0'\n",
    "device = torch.device('cuda:0' if torch.cuda.is_available() else 'cpu')\n",
    "device\n"
   ]
  },
  {
   "cell_type": "code",
   "execution_count": 5,
   "metadata": {},
   "outputs": [
    {
     "name": "stdout",
     "output_type": "stream",
     "text": [
      "10.1\n"
     ]
    }
   ],
   "source": [
    "print(torch.version.cuda)"
   ]
  },
  {
   "cell_type": "markdown",
   "metadata": {},
   "source": [
    "Seed"
   ]
  },
  {
   "cell_type": "code",
   "execution_count": 6,
   "metadata": {},
   "outputs": [],
   "source": [
    "seed = 1000\n",
    "np.random.seed(seed)\n",
    "rd.seed(seed)\n",
    "torch.manual_seed(seed)\n",
    "torch.cuda.manual_seed(seed)\n",
    "torch.backends.cudnn.deterministic=True"
   ]
  },
  {
   "cell_type": "code",
   "execution_count": 7,
   "metadata": {},
   "outputs": [],
   "source": [
    "def init_seed(seed):\n",
    "    np.random.seed(seed)"
   ]
  },
  {
   "cell_type": "code",
   "execution_count": 8,
   "metadata": {},
   "outputs": [],
   "source": [
    "init_seed = init_seed(seed)"
   ]
  },
  {
   "cell_type": "markdown",
   "metadata": {},
   "source": [
    "Hyperparameters"
   ]
  },
  {
   "cell_type": "code",
   "execution_count": 9,
   "metadata": {},
   "outputs": [],
   "source": [
    "epochs = 50\n",
    "batch_size = 25\n",
    "validation_split = 0.2\n",
    "test_split = 0.2\n",
    "encoder_layer_size = param['encoder_layer_size']\n",
    "decoder_layer_size = param['decoder_layer_size']\n",
    "kernel_size = param['kernel_size']\n",
    "filter_size = param['filter_size']"
   ]
  },
  {
   "cell_type": "markdown",
   "metadata": {},
   "source": [
    "Loading the dataset"
   ]
  },
  {
   "cell_type": "code",
   "execution_count": 10,
   "metadata": {},
   "outputs": [
    {
     "data": {
      "text/html": [
       "<pre>&lt;xarray.Dataset&gt;\n",
       "Dimensions:  (channel: 1, lat: 32, lon: 32, sample: 54047, time: 5)\n",
       "Coordinates:\n",
       "  * lat      (lat) int32 -54 -52 -50 -48 -46 -44 -42 -40 ... -6 -4 -2 0 2 4 6 8\n",
       "  * lon      (lon) int32 278 280 282 284 286 288 290 ... 330 332 334 336 338 340\n",
       "Dimensions without coordinates: channel, sample, time\n",
       "Data variables:\n",
       "    x        (sample, time, lat, lon, channel) float32 ...\n",
       "    y        (sample, time, lat, lon, channel) float32 ...\n",
       "Attributes:\n",
       "    description:  The variables have air temperature values and are separable...</pre>"
      ],
      "text/plain": [
       "<xarray.Dataset>\n",
       "Dimensions:  (channel: 1, lat: 32, lon: 32, sample: 54047, time: 5)\n",
       "Coordinates:\n",
       "  * lat      (lat) int32 -54 -52 -50 -48 -46 -44 -42 -40 ... -6 -4 -2 0 2 4 6 8\n",
       "  * lon      (lon) int32 278 280 282 284 286 288 290 ... 330 332 334 336 338 340\n",
       "Dimensions without coordinates: channel, sample, time\n",
       "Data variables:\n",
       "    x        (sample, time, lat, lon, channel) float32 ...\n",
       "    y        (sample, time, lat, lon, channel) float32 ...\n",
       "Attributes:\n",
       "    description:  The variables have air temperature values and are separable..."
      ]
     },
     "execution_count": 10,
     "metadata": {},
     "output_type": "execute_result"
    }
   ],
   "source": [
    "dataset = xr.open_dataset(data_path)\n",
    "dataset"
   ]
  },
  {
   "cell_type": "code",
   "execution_count": 11,
   "metadata": {},
   "outputs": [],
   "source": [
    "data = NCDFDatasets(dataset, val_split = validation_split, test_split = test_split, data_type='Reconstruction')\n",
    "train_data = data.get_train()\n",
    "val_data = data.get_val()\n",
    "test_data = data.get_test()"
   ]
  },
  {
   "cell_type": "code",
   "execution_count": 12,
   "metadata": {},
   "outputs": [
    {
     "name": "stdout",
     "output_type": "stream",
     "text": [
      "-----Train-----\n",
      "X :  torch.Size([32429, 1, 10, 32, 32])\n",
      "Y :  torch.Size([32429, 1, 10, 32, 32])\n",
      "Removed :  torch.Size([32429])\n",
      "-----Val-----\n",
      "X :  torch.Size([10809, 1, 10, 32, 32])\n",
      "Y :  torch.Size([10809, 1, 10, 32, 32])\n",
      "Removed :  torch.Size([10809])\n",
      "-----Test-----\n",
      "X :  torch.Size([10809, 1, 10, 32, 32])\n",
      "Y :  torch.Size([10809, 1, 10, 32, 32])\n",
      "Removed :  torch.Size([10809])\n"
     ]
    }
   ],
   "source": [
    "print(\"-----Train-----\")\n",
    "print(\"X : \", train_data.x.shape)\n",
    "print(\"Y : \", train_data.y.shape)\n",
    "print(\"Removed : \", train_data.removed.shape)\n",
    "print(\"-----Val-----\")\n",
    "print(\"X : \", val_data.x.shape)\n",
    "print(\"Y : \", val_data.y.shape)\n",
    "print(\"Removed : \", val_data.removed.shape)\n",
    "print(\"-----Test-----\")\n",
    "print(\"X : \", test_data.x.shape)\n",
    "print(\"Y : \", test_data.y.shape)\n",
    "print(\"Removed : \", test_data.removed.shape)"
   ]
  },
  {
   "cell_type": "code",
   "execution_count": 13,
   "metadata": {},
   "outputs": [],
   "source": [
    "params = {'batch_size': batch_size,\n",
    "          'num_workers': 4, \n",
    "          'worker_init_fn': init_seed}\n",
    "\n",
    "train_loader = DataLoader(dataset=train_data, shuffle=True, **params)\n",
    "val_loader = DataLoader(dataset=val_data, shuffle=False, **params)\n",
    "test_loader = DataLoader(dataset=test_data, shuffle=False, **params)"
   ]
  },
  {
   "cell_type": "code",
   "execution_count": 14,
   "metadata": {},
   "outputs": [
    {
     "data": {
      "image/png": "[encoded data removed]",
      "text/plain": [
       "<Figure size 432x288 with 1 Axes>"
      ]
     },
     "metadata": {
      "needs_background": "light"
     },
     "output_type": "display_data"
    }
   ],
   "source": [
    "import cartopy.crs as ccrs\n",
    "import matplotlib.pyplot as plt\n",
    "import cartopy\n",
    "#sample, ch, time, lat, lon\n",
    "sst = train_data.y[0, 0, 0, :, :]\n",
    "lats = dataset.variables['lat'][:]\n",
    "lons = dataset.variables['lon'][:]\n",
    "\n",
    "ax = plt.axes(projection=ccrs.PlateCarree())\n",
    "\n",
    "plt.contourf(lons, lats, sst, 60,\n",
    "             transform=ccrs.PlateCarree())\n",
    "ax.coastlines(color='white')\n",
    "\n",
    "plt.show()"
   ]
  },
  {
   "cell_type": "markdown",
   "metadata": {},
   "source": [
    "Creating the model"
   ]
  },
  {
   "cell_type": "code",
   "execution_count": 15,
   "metadata": {
    "pixiedust": {
     "displayParams": {}
    }
   },
   "outputs": [],
   "source": [
    "class EncoderSTCNN(nn.Module):\n",
    "    \n",
    "    def __init__(self, layer_size, kernel_size, initial_filter_size, channels):\n",
    "        super(EncoderSTCNN, self).__init__()\n",
    "        self.padding = kernel_size // 2\n",
    "        self.conv_layers = nn.ModuleList()\n",
    "        self.relu_layers = nn.ModuleList()\n",
    "        self.batch_layers = nn.ModuleList()\n",
    "        \n",
    "        spatial_kernel_size =  [1, kernel_size, kernel_size]\n",
    "        spatial_padding =  [0, self.padding, self.padding]\n",
    "        \n",
    "        out_channels = initial_filter_size\n",
    "        in_channels = channels\n",
    "        for i in range(layer_size):\n",
    "            self.conv_layers.append(\n",
    "                nn.Conv3d(in_channels=in_channels, out_channels=out_channels, \n",
    "                          kernel_size=spatial_kernel_size, padding=spatial_padding, bias=False)\n",
    "            )\n",
    "            self.relu_layers.append(nn.ReLU())\n",
    "            self.batch_layers.append(nn.BatchNorm3d(out_channels))\n",
    "            in_channels = out_channels\n",
    "        \n",
    "    def forward(self, x):\n",
    "        for conv, relu, batch in zip(self.conv_layers, self.relu_layers, \n",
    "                                           self.batch_layers):\n",
    "            x = conv(x)\n",
    "            x = batch(x)\n",
    "            x = relu(x)\n",
    "            \n",
    "        return x"
   ]
  },
  {
   "cell_type": "code",
   "execution_count": 16,
   "metadata": {},
   "outputs": [],
   "source": [
    "class DecoderSTCNN(nn.Module):\n",
    "    \n",
    "    def __init__(self, layer_size, kernel_size, initial_filter_size, channels):\n",
    "        super(DecoderSTCNN, self).__init__()\n",
    "        #self.padding = kernel_size - 1\n",
    "        self.padding = kernel_size // 2\n",
    "        self.conv_layers = nn.ModuleList()\n",
    "        self.relu_layers = nn.ModuleList()\n",
    "        self.batch_layers = nn.ModuleList()\n",
    "\n",
    "        temporal_kernel_size =  [kernel_size, 1, 1]\n",
    "        temporal_padding =  [self.padding, 0, 0]\n",
    "        \n",
    "        out_channels = initial_filter_size\n",
    "        in_channels = channels\n",
    "        for i in range(layer_size):\n",
    "            self.conv_layers.append(\n",
    "                nn.Conv3d(in_channels=in_channels, out_channels=out_channels, \n",
    "                          kernel_size=temporal_kernel_size, padding=temporal_padding, bias=False)\n",
    "            )\n",
    "            self.relu_layers.append(nn.ReLU())\n",
    "            self.batch_layers.append(nn.BatchNorm3d(out_channels))\n",
    "            in_channels = out_channels\n",
    "\n",
    "        padding_final = [kernel_size // 2, 0, 0]\n",
    "        self.conv_final = nn.Conv3d(in_channels=in_channels, out_channels=1, \n",
    "              kernel_size=temporal_kernel_size, padding=padding_final, bias=True)\n",
    "        \n",
    "    def forward(self, x):\n",
    "        for conv, relu, batch in zip(self.conv_layers, self.relu_layers, \n",
    "                                           self.batch_layers):\n",
    "            x = conv(x)#[:,:,:-self.padding,:,:]\n",
    "            x = batch(x)\n",
    "            x = relu(x)\n",
    "            \n",
    "        out = self.conv_final(x)\n",
    "        return out"
   ]
  },
  {
   "cell_type": "code",
   "execution_count": 17,
   "metadata": {},
   "outputs": [],
   "source": [
    "class STConvS2S(nn.Module):\n",
    "    \n",
    "    def __init__(self, encoder_layer_size, decoder_layer_size, kernel_size, \n",
    "                 filter_size, channels):\n",
    "        super(STConvS2S, self).__init__()\n",
    "        \n",
    "        self.encoder = EncoderSTCNN(layer_size=encoder_layer_size, kernel_size=kernel_size, \n",
    "                                  initial_filter_size=filter_size, channels=channels)\n",
    "        self.decoder = DecoderSTCNN(layer_size=decoder_layer_size, kernel_size=kernel_size, \n",
    "                                  initial_filter_size=filter_size, channels=filter_size)\n",
    "        \n",
    "    def forward(self, x):\n",
    "        out = self.encoder(x)\n",
    "        return self.decoder(out)"
   ]
  },
  {
   "cell_type": "code",
   "execution_count": 18,
   "metadata": {},
   "outputs": [],
   "source": [
    "class WeightedRMSELoss(torch.nn.Module):\n",
    "    def __init__(self, eps=1e-6):\n",
    "        super().__init__()\n",
    "        self.mse = torch.nn.MSELoss()\n",
    "        self.eps = eps\n",
    "        \n",
    "    def forward(self,yhat,y, removed):\n",
    "        #y : 25 x ch x time x lat x lon\n",
    "        #removed : 25\n",
    "        batch, ch, time, lat, lon = yhat.shape\n",
    "        cumulative_loss = 0\n",
    "        for i in range(batch):\n",
    "            for j in range(time):\n",
    "                weight = weights[0] if removed[i] == j else (weights[1]/(time-1))\n",
    "                cumulative_loss += ((yhat[i,:,j,:,:] - y[i,:,j,:,:])**2).mean() * weight\n",
    "        '''print(\"Weighted:\")\n",
    "        print(torch.sqrt((cumulative_loss / (time*batch))+ self.eps))\n",
    "        print(\"Unweighted:\")\n",
    "        print(torch.sqrt((cum_loss / (time*batch))+ self.eps))\n",
    "        print(\"Torch version:\")\n",
    "        print(torch.sqrt(self.mse(yhat,y) + self.eps))'''\n",
    "        return torch.sqrt((cumulative_loss / (batch))+ self.eps)"
   ]
  },
  {
   "cell_type": "code",
   "execution_count": 19,
   "metadata": {
    "pixiedust": {
     "displayParams": {}
    }
   },
   "outputs": [],
   "source": [
    "model = STConvS2S(encoder_layer_size, decoder_layer_size, kernel_size, \n",
    "                 filter_size, channels=train_data.x.shape[1]).to(device)\n",
    "criterion = WeightedRMSELoss()\n",
    "opt_params = {'lr': 0.001, \n",
    "              'alpha': 0.9, \n",
    "              'eps': 1e-6}\n",
    "optimizer = torch.optim.RMSprop(model.parameters(), **opt_params)"
   ]
  },
  {
   "cell_type": "markdown",
   "metadata": {},
   "source": [
    "Training the model"
   ]
  },
  {
   "cell_type": "code",
   "execution_count": 20,
   "metadata": {},
   "outputs": [],
   "source": [
    "model_path = os.path.join('../../../models/CFSR/Reconstruction/STConvS2S-2' + '_' + datetime.now().strftime('m%md%d-h%Hm%Ms%S') + '.pth.tar')\n",
    "trainer = Trainer(model, train_loader, val_loader, criterion, optimizer, 100, device, model_path, cut_output=False, recurrent_model=False, is_reconstruction=True)\n"
   ]
  },
  {
   "cell_type": "code",
   "execution_count": 21,
   "metadata": {},
   "outputs": [
    {
     "name": "stdout",
     "output_type": "stream",
     "text": [
      "Train - Epoch 0, Epoch Loss: 2.336090\n",
      "Val Avg. Loss: 1.521869\n",
      "=> Saving a new best\n",
      "Train - Epoch 1, Epoch Loss: 1.145263\n",
      "Val Avg. Loss: 1.135801\n",
      "=> Saving a new best\n",
      "Train - Epoch 2, Epoch Loss: 1.048120\n",
      "Val Avg. Loss: 0.990560\n",
      "=> Saving a new best\n",
      "Train - Epoch 3, Epoch Loss: 1.000307\n",
      "Val Avg. Loss: 1.069647\n",
      "Train - Epoch 4, Epoch Loss: 0.970461\n",
      "Val Avg. Loss: 0.950001\n",
      "=> Saving a new best\n",
      "Train - Epoch 5, Epoch Loss: 0.953642\n",
      "Val Avg. Loss: 1.045973\n",
      "Train - Epoch 6, Epoch Loss: 0.938799\n",
      "Val Avg. Loss: 1.359856\n",
      "Train - Epoch 7, Epoch Loss: 0.926671\n",
      "Val Avg. Loss: 0.945422\n",
      "=> Saving a new best\n",
      "Train - Epoch 8, Epoch Loss: 0.915627\n",
      "Val Avg. Loss: 1.140177\n",
      "Train - Epoch 9, Epoch Loss: 0.909264\n",
      "Val Avg. Loss: 1.003263\n",
      "Train - Epoch 10, Epoch Loss: 0.896584\n",
      "Val Avg. Loss: 0.886813\n",
      "=> Saving a new best\n",
      "Train - Epoch 11, Epoch Loss: 0.892962\n",
      "Val Avg. Loss: 0.959614\n",
      "Train - Epoch 12, Epoch Loss: 0.888731\n",
      "Val Avg. Loss: 1.044246\n",
      "Train - Epoch 13, Epoch Loss: 0.885576\n",
      "Val Avg. Loss: 0.956334\n",
      "Train - Epoch 14, Epoch Loss: 0.877478\n",
      "Val Avg. Loss: 1.059594\n",
      "Train - Epoch 15, Epoch Loss: 0.876499\n",
      "Val Avg. Loss: 0.905675\n"
     ]
    }
   ],
   "source": [
    "train_losses, val_losses = trainer.train_evaluate()"
   ]
  },
  {
   "cell_type": "code",
   "execution_count": null,
   "metadata": {},
   "outputs": [],
   "source": [
    "import matplotlib.pyplot as plt\n",
    "epochs = np.arange(1,len(val_losses))\n",
    "plt.figure(figsize=(15,10)) \n",
    "plt.plot(train_losses)\n",
    "plt.plot(val_losses)\n",
    "plt.legend(['Train loss', 'Val loss'], loc='upper right')\n",
    "plt.xlabel(\"Epochs\")\n",
    "plt.ylabel(\"RMSE Loss\")\n",
    "plt.show()"
   ]
  },
  {
   "cell_type": "markdown",
   "metadata": {},
   "source": [
    "Evaluating the model"
   ]
  },
  {
   "cell_type": "code",
   "execution_count": 22,
   "metadata": {},
   "outputs": [
    {
     "name": "stdout",
     "output_type": "stream",
     "text": [
      "STConvS2S WeightedRMSELoss: 0.9715\n"
     ]
    }
   ],
   "source": [
    "model, optimizer, epoch, loss = trainer.load_model()\n",
    "batch_test_loss = 0.0\n",
    "model.eval()\n",
    "with torch.no_grad():\n",
    "    for i, (x, y, removed) in enumerate(test_loader):\n",
    "        x,y,removed = x.to(device), y.to(device), removed.to(device)\n",
    "        output = model(x)\n",
    "        loss = criterion(output, y, removed)\n",
    "        batch_test_loss += loss.detach().item()\n",
    "test_loss = batch_test_loss/len(test_loader)\n",
    "loss_type = type(criterion).__name__\n",
    "print(f'STConvS2S {loss_type}: {test_loss:.4f}')"
   ]
  },
  {
   "cell_type": "code",
   "execution_count": null,
   "metadata": {},
   "outputs": [],
   "source": [
    "if (torch.cuda.is_available()):\n",
    "    torch.cuda.empty_cache()"
   ]
  },
  {
   "cell_type": "code",
   "execution_count": 22,
   "metadata": {},
   "outputs": [],
   "source": [
    "class RMSELoss(torch.nn.Module):\n",
    "    def __init__(self, eps=1e-6):\n",
    "        super().__init__()\n",
    "        self.mse = torch.nn.MSELoss()\n",
    "        self.eps = eps\n",
    "        \n",
    "    def forward(self,yhat,y):\n",
    "        loss = torch.sqrt(self.mse(yhat,y) + self.eps)\n",
    "        return loss"
   ]
  },
  {
   "cell_type": "code",
   "execution_count": 23,
   "metadata": {},
   "outputs": [],
   "source": [
    "import sklearn.metrics as metrics\n",
    "import matplotlib.pyplot as plt\n",
    "import numpy as np\n",
    "\n",
    "criterion_mae = torch.nn.L1Loss()\n",
    "criterion_rmse = RMSELoss()\n",
    "def report_regression_results(y_true, y_pred):\n",
    "    # Print multiple regression metrics\n",
    "    explained_variance=metrics.explained_variance_score(y_true, y_pred)\n",
    "    mean_absolute_error=metrics.mean_absolute_error(y_true, y_pred) \n",
    "    mse=metrics.mean_squared_error(y_true, y_pred) \n",
    "    #mean_squared_log_error=metrics.mean_squared_log_error(y_true, y_pred)\n",
    "    median_absolute_error=metrics.median_absolute_error(y_true, y_pred)\n",
    "    r2=metrics.r2_score(y_true, y_pred)\n",
    "    adjusted_r2 =  1.0 - ( mse / y_true.var() )\n",
    "    print('explained_variance: ', round(explained_variance,4))    \n",
    "    #print('mean_squared_log_error: ', round(mean_squared_log_error,4))\n",
    "    print('r2: ', round(r2,4))\n",
    "    print('Adjusted r2: ', round(adjusted_r2,4))\n",
    "    print('MAE: ', round(mean_absolute_error,4))\n",
    "    print('MSE: ', round(mse,4))\n",
    "    print('RMSE: ', round(np.sqrt(mse),4))\n",
    "    # save a plot with the residuals\n",
    "    plt.scatter(y_pred,(y_true - y_pred),edgecolors='black')\n",
    "    plt.title('Fitted vs. residuals plot')\n",
    "    plt.xlabel(\"Fitted\")\n",
    "    plt.ylabel(\"Residual\")\n",
    "    plt.show()\n",
    "    f.savefig(\"report-experiment1.pdf\", bbox_inches='tight')\n",
    "    \n",
    "def report_explained_variance(y_true, y_pred):\n",
    "    batch, ch, lat, lon = y_true.shape\n",
    "    explained_variance = 0\n",
    "    for i in range(batch):\n",
    "        explained_variance += metrics.explained_variance_score(y_true[i,0,:,:], y_pred[i,0,:,:])\n",
    "    return explained_variance / (batch)\n",
    "\n",
    "def report_r2(y_true, y_pred):\n",
    "    y_true = y_true.cpu().numpy()\n",
    "    y_pred = y_pred.cpu().numpy()\n",
    "    mse = metrics.mean_squared_error(y_true, y_pred) \n",
    "    r2 = metrics.r2_score(y_true, y_pred)\n",
    "    ar2 =  1.0 - ( mse / y_true.var() )\n",
    "    return r2, ar2\n",
    "\n",
    "def report_losses(y_true, y_pred):\n",
    "    mae = criterion_mae(y_true, y_pred)\n",
    "    rmse = criterion_rmse(y_true, y_pred)\n",
    "    return mae, rmse\n",
    "\n",
    "def report_metrics(y_true, y_pred, removed):\n",
    "    batch, ch, time, lat, lon = y_true.shape\n",
    "    r2 = 0.0\n",
    "    ar2 = 0.0\n",
    "    mae = 0.0\n",
    "    rmse = 0.0\n",
    "    for i in range(batch):\n",
    "        v1,v2 = report_r2(y_true[i,0,removed[i],:,:], y_pred[i,0,removed[i],:,:])\n",
    "        r2 += v1\n",
    "        ar2 += v2\n",
    "        v1, v2 = report_losses(y_true[i,0,removed[i],:,:], y_pred[i,0,removed[i],:,:])\n",
    "        mae += v1\n",
    "        rmse += v2\n",
    "    r2 = r2/(batch)\n",
    "    ar2 = ar2/(batch)\n",
    "    mae = mae/batch\n",
    "    rmse = rmse/batch\n",
    "    return mae, rmse, r2, ar2\n",
    "\n",
    "def plot_residual_fitted(y_true, y_pred):\n",
    "    plt.scatter(y_pred,(y_true - y_pred), alpha=0.5)\n",
    "    plt.title('STConvS2S')\n",
    "    plt.xlabel(\"Fitted\")\n",
    "    plt.ylabel(\"Residual\")\n",
    "    plt.show()"
   ]
  },
  {
   "cell_type": "code",
   "execution_count": 24,
   "metadata": {},
   "outputs": [
    {
     "data": {
      "image/png": "[encoded data removed]",
      "text/plain": [
       "<Figure size 432x288 with 1 Axes>"
      ]
     },
     "metadata": {
      "needs_background": "light"
     },
     "output_type": "display_data"
    },
    {
     "name": "stdout",
     "output_type": "stream",
     "text": [
      "MAE: 0.6202\n",
      "RMSE: 0.8757\n",
      "Explained variance:  0.0\n",
      "r2:  0.9858\n",
      "ar2:  0.9874\n"
     ]
    }
   ],
   "source": [
    "#trainer.path = '../../../models/CFSR/5_step/STConvS2S_m04d11-h13m48s38.pth.tar'\n",
    "model, optimizer, epoch, loss = trainer.load_model()\n",
    "batch_test_loss_mae = 0.0\n",
    "batch_test_loss_rmse = 0.0\n",
    "batch_explained_variance = 0.0\n",
    "batch_r2 = 0.0\n",
    "batch_ar2 = 0.0\n",
    "model.eval()\n",
    "y_true = None\n",
    "with torch.no_grad():\n",
    "    for i, (x, y, removed) in enumerate(test_loader):\n",
    "        x,y,removed = x.to(device), y.to(device), removed.to(device)\n",
    "        output = model(x)\n",
    "        loss_mae, loss_rmse, r2, ar2 = report_metrics(y, output, removed)\n",
    "        if (i == 0):\n",
    "            plot_residual_fitted(y[0,0,removed[i],:,:].cpu(), output[0,0,removed[i],:,:].cpu())\n",
    "        batch_test_loss_mae += loss_mae.detach().item()\n",
    "        batch_test_loss_rmse += loss_rmse.detach().item()\n",
    "        batch_r2 += r2\n",
    "        batch_ar2 += ar2\n",
    "        \n",
    "test_loss_mae = batch_test_loss_mae/len(test_loader)\n",
    "test_loss_rmse = batch_test_loss_rmse/len(test_loader)\n",
    "explained_variance = batch_explained_variance/len(test_loader)\n",
    "r2 = batch_r2/len(test_loader)\n",
    "ar2 = batch_ar2/len(test_loader)\n",
    "print(f'MAE: {test_loss_mae:.4f}')\n",
    "print(f'RMSE: {test_loss_rmse:.4f}')\n",
    "print('Explained variance: ', round(explained_variance,4))\n",
    "print('r2: ', round(r2,4))\n",
    "print('ar2: ', round(ar2,4))"
   ]
  },
  {
   "cell_type": "code",
   "execution_count": 37,
   "metadata": {},
   "outputs": [
    {
     "data": {
      "image/png": "[encoded data removed]",
      "text/plain": [
       "<Figure size 432x288 with 1 Axes>"
      ]
     },
     "metadata": {
      "needs_background": "light"
     },
     "output_type": "display_data"
    },
    {
     "name": "stdout",
     "output_type": "stream",
     "text": [
      "STConvS2S: 0.0000\n",
      "Explained variance:  0.0\n",
      "r2:  0.0\n",
      "ar2:  0.0\n"
     ]
    }
   ],
   "source": [
    "model, optimizer, epoch, loss = trainer.load_model()\n",
    "batch_test_loss = 0.0\n",
    "batch_explained_variance = 0.0\n",
    "batch_r2 = 0.0\n",
    "batch_ar2 = 0.0\n",
    "model.eval()\n",
    "y_true = None\n",
    "with torch.no_grad():\n",
    "    for i, (x, y) in enumerate(test_loader):\n",
    "        x,y = x.to(device), y.to(device)\n",
    "        output = model(x)\n",
    "        loss = criterion(output, y)\n",
    "        y_true = y.cpu().numpy()\n",
    "        y_pred = output.cpu().numpy()\n",
    "        if (i == 0):\n",
    "            plot_residual_fitted(y_true[0,0,0,:,:], y_pred[0,0,0,:,:])\n",
    "        break\n",
    "        batch_test_loss += loss.detach().item()\n",
    "        batch_explained_variance += report_explained_variance(y_true, y_pred)\n",
    "        r2, ar2 = report_r2(y_true, y_pred)\n",
    "        batch_r2 += r2\n",
    "        batch_ar2 += ar2\n",
    "        \n",
    "test_loss = batch_test_loss/len(test_loader)\n",
    "explained_variance = batch_explained_variance/len(test_loader)\n",
    "r2 = batch_r2/len(test_loader)\n",
    "ar2 = batch_ar2/len(test_loader)\n",
    "print(f'STConvS2S: {test_loss:.4f}')\n",
    "print('Explained variance: ', round(explained_variance,4))\n",
    "print('r2: ', round(r2,4))\n",
    "print('ar2: ', round(ar2,4))"
   ]
  },
  {
   "cell_type": "code",
   "execution_count": null,
   "metadata": {},
   "outputs": [],
   "source": []
  }
 ],
 "metadata": {
  "kernelspec": {
   "display_name": "Python 3",
   "language": "python",
   "name": "python3"
  },
  "language_info": {
   "codemirror_mode": {
    "name": "ipython",
    "version": 3
   },
   "file_extension": ".py",
   "mimetype": "text/x-python",
   "name": "python",
   "nbconvert_exporter": "python",
   "pygments_lexer": "ipython3",
   "version": "3.7.3"
  }
 },
 "nbformat": 4,
 "nbformat_minor": 2
}
